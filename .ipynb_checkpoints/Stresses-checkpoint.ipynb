{
 "cells": [
  {
   "cell_type": "code",
   "execution_count": 99,
   "metadata": {
    "collapsed": true
   },
   "outputs": [],
   "source": [
    "import pandas as pd\n",
    "import pronouncing as prn"
   ]
  },
  {
   "cell_type": "code",
   "execution_count": 118,
   "metadata": {
    "collapsed": false
   },
   "outputs": [],
   "source": [
    "phones_list = prn.phones_for_word(\"snappiest\")\n",
    "#prn.stresses(phones_list[0])"
   ]
  },
  {
   "cell_type": "code",
   "execution_count": 75,
   "metadata": {
    "collapsed": false
   },
   "outputs": [
    {
     "data": {
      "text/plain": [
       "''"
      ]
     },
     "execution_count": 75,
     "metadata": {},
     "output_type": "execute_result"
    }
   ],
   "source": [
    "text = \"I can't feel my legs I'm a paraplegic\"\n",
    "phones_list = [prn.phones_for_word(p) for p in text.split()]\n",
    "phones_list[0]\n",
    "gang = prn.phones_for_word(\"gang\")\n",
    "gang\n",
    "prn.stresses(\"gang\")"
   ]
  },
  {
   "cell_type": "code",
   "execution_count": 68,
   "metadata": {
    "collapsed": false
   },
   "outputs": [
    {
     "data": {
      "text/plain": [
       "<generator object <genexpr> at 0x114d99620>"
      ]
     },
     "execution_count": 68,
     "metadata": {},
     "output_type": "execute_result"
    }
   ],
   "source": [
    "(prn.stresses(p) for p in phones_list)"
   ]
  },
  {
   "cell_type": "code",
   "execution_count": 62,
   "metadata": {
    "collapsed": false
   },
   "outputs": [
    {
     "ename": "TypeError",
     "evalue": "expected string or bytes-like object",
     "output_type": "error",
     "traceback": [
      "\u001b[0;31m---------------------------------------------------------------------------\u001b[0m",
      "\u001b[0;31mTypeError\u001b[0m                                 Traceback (most recent call last)",
      "\u001b[0;32m<ipython-input-62-fe8b5c62e68c>\u001b[0m in \u001b[0;36m<module>\u001b[0;34m()\u001b[0m\n\u001b[1;32m      1\u001b[0m \u001b[0;31m#phones_list = prn.phones_for_word(\"snappiest\")\u001b[0m\u001b[0;34m\u001b[0m\u001b[0;34m\u001b[0m\u001b[0m\n\u001b[0;32m----> 2\u001b[0;31m \u001b[0mprn\u001b[0m\u001b[0;34m.\u001b[0m\u001b[0mstresses\u001b[0m\u001b[0;34m(\u001b[0m\u001b[0mphones_list\u001b[0m\u001b[0;34m[\u001b[0m\u001b[0;36m0\u001b[0m\u001b[0;34m]\u001b[0m\u001b[0;34m)\u001b[0m\u001b[0;34m\u001b[0m\u001b[0m\n\u001b[0m",
      "\u001b[0;32m//anaconda/lib/python3.5/site-packages/pronouncing/__init__.py\u001b[0m in \u001b[0;36mstresses\u001b[0;34m(s)\u001b[0m\n\u001b[1;32m    112\u001b[0m     \u001b[0;34m:\u001b[0m\u001b[0mreturns\u001b[0m\u001b[0;34m:\u001b[0m \u001b[0mstring\u001b[0m \u001b[0mof\u001b[0m \u001b[0mjust\u001b[0m \u001b[0mthe\u001b[0m \u001b[0mstresses\u001b[0m\u001b[0;34m\u001b[0m\u001b[0m\n\u001b[1;32m    113\u001b[0m     \"\"\"\n\u001b[0;32m--> 114\u001b[0;31m     \u001b[0;32mreturn\u001b[0m \u001b[0mre\u001b[0m\u001b[0;34m.\u001b[0m\u001b[0msub\u001b[0m\u001b[0;34m(\u001b[0m\u001b[0;34mr\"[^012]\"\u001b[0m\u001b[0;34m,\u001b[0m \u001b[0;34m\"\"\u001b[0m\u001b[0;34m,\u001b[0m \u001b[0ms\u001b[0m\u001b[0;34m)\u001b[0m\u001b[0;34m\u001b[0m\u001b[0m\n\u001b[0m\u001b[1;32m    115\u001b[0m \u001b[0;34m\u001b[0m\u001b[0m\n\u001b[1;32m    116\u001b[0m \u001b[0;34m\u001b[0m\u001b[0m\n",
      "\u001b[0;32m//anaconda/lib/python3.5/re.py\u001b[0m in \u001b[0;36msub\u001b[0;34m(pattern, repl, string, count, flags)\u001b[0m\n\u001b[1;32m    180\u001b[0m     \u001b[0ma\u001b[0m \u001b[0mcallable\u001b[0m\u001b[0;34m,\u001b[0m \u001b[0mit\u001b[0m\u001b[0;31m'\u001b[0m\u001b[0ms\u001b[0m \u001b[0mpassed\u001b[0m \u001b[0mthe\u001b[0m \u001b[0mmatch\u001b[0m \u001b[0mobject\u001b[0m \u001b[0;32mand\u001b[0m \u001b[0mmust\u001b[0m \u001b[0;32mreturn\u001b[0m\u001b[0;34m\u001b[0m\u001b[0m\n\u001b[1;32m    181\u001b[0m     a replacement string to be used.\"\"\"\n\u001b[0;32m--> 182\u001b[0;31m     \u001b[0;32mreturn\u001b[0m \u001b[0m_compile\u001b[0m\u001b[0;34m(\u001b[0m\u001b[0mpattern\u001b[0m\u001b[0;34m,\u001b[0m \u001b[0mflags\u001b[0m\u001b[0;34m)\u001b[0m\u001b[0;34m.\u001b[0m\u001b[0msub\u001b[0m\u001b[0;34m(\u001b[0m\u001b[0mrepl\u001b[0m\u001b[0;34m,\u001b[0m \u001b[0mstring\u001b[0m\u001b[0;34m,\u001b[0m \u001b[0mcount\u001b[0m\u001b[0;34m)\u001b[0m\u001b[0;34m\u001b[0m\u001b[0m\n\u001b[0m\u001b[1;32m    183\u001b[0m \u001b[0;34m\u001b[0m\u001b[0m\n\u001b[1;32m    184\u001b[0m \u001b[0;32mdef\u001b[0m \u001b[0msubn\u001b[0m\u001b[0;34m(\u001b[0m\u001b[0mpattern\u001b[0m\u001b[0;34m,\u001b[0m \u001b[0mrepl\u001b[0m\u001b[0;34m,\u001b[0m \u001b[0mstring\u001b[0m\u001b[0;34m,\u001b[0m \u001b[0mcount\u001b[0m\u001b[0;34m=\u001b[0m\u001b[0;36m0\u001b[0m\u001b[0;34m,\u001b[0m \u001b[0mflags\u001b[0m\u001b[0;34m=\u001b[0m\u001b[0;36m0\u001b[0m\u001b[0;34m)\u001b[0m\u001b[0;34m:\u001b[0m\u001b[0;34m\u001b[0m\u001b[0m\n",
      "\u001b[0;31mTypeError\u001b[0m: expected string or bytes-like object"
     ]
    }
   ],
   "source": [
    "#phones_list = prn.phones_for_word(\"snappiest\")\n",
    "prn.stresses(phones_list[0])"
   ]
  },
  {
   "cell_type": "code",
   "execution_count": 47,
   "metadata": {
    "collapsed": false
   },
   "outputs": [
    {
     "data": {
      "text/plain": [
       "'102'"
      ]
     },
     "execution_count": 47,
     "metadata": {},
     "output_type": "execute_result"
    }
   ],
   "source": []
  },
  {
   "cell_type": "code",
   "execution_count": 17,
   "metadata": {
    "collapsed": true
   },
   "outputs": [],
   "source": [
    "line = \"I can't feel my legs I'm a paraplegic\"\n",
    "words = line.split()"
   ]
  },
  {
   "cell_type": "code",
   "execution_count": 18,
   "metadata": {
    "collapsed": false
   },
   "outputs": [
    {
     "data": {
      "text/plain": [
       "['I', \"can't\", 'feel', 'my', 'legs', \"I'm\", 'a', 'paraplegic']"
      ]
     },
     "execution_count": 18,
     "metadata": {},
     "output_type": "execute_result"
    }
   ],
   "source": [
    "words"
   ]
  },
  {
   "cell_type": "code",
   "execution_count": 42,
   "metadata": {
    "collapsed": false
   },
   "outputs": [],
   "source": [
    "stress = pr.stresses('snappiest')"
   ]
  },
  {
   "cell_type": "code",
   "execution_count": 38,
   "metadata": {
    "collapsed": false
   },
   "outputs": [
    {
     "data": {
      "text/plain": [
       "''"
      ]
     },
     "execution_count": 38,
     "metadata": {},
     "output_type": "execute_result"
    }
   ],
   "source": []
  },
  {
   "cell_type": "code",
   "execution_count": null,
   "metadata": {
    "collapsed": true
   },
   "outputs": [],
   "source": [
    "# Function for giving the stress (0, 1, or 2 for unstressed, stressed, and semi-stressed ) \n",
    "# for a given word, including when that word has multiple pronunciations\n",
    "def stress_string(word):\n",
    "    if (more_than_one_pronunciation(word)):\n",
    "        word_lower = word.lower()\n",
    "        phones_list = prn.phones_for_word(word_lower)\n",
    "        # Create a list to store the pronunciation strings\n",
    "        pronunciation_list = []\n",
    "        # Words with two pronunciations create two items in our list\n",
    "        pronunciation_list.append(phones_list[0])\n",
    "        pronunciation_list.append(phones_list[1])\n",
    "        # Compute the stress data from these strings and store the results in the stresses variables\n",
    "        stresses1 = prn.stresses(pronunciation_list[0])\n",
    "        stresses2 = prn.stresses(pronunciation_list[1])\n",
    "        # Create a new string to represent our stress data for this word\n",
    "        best_guess_stress = ''\n",
    "        # Our goal is to preserve as much information about possible pronunciations as possible\n",
    "        # For the different pronunciations, find out where they overlap\n",
    "        # Iterate over the stress data for each pronunciation\n",
    "        for i in range(0, len(stresses1)):\n",
    "        # Keep the data points that are constant in the two pronunciations\n",
    "            if (stresses1[i] == stresses2[i]):\n",
    "                best_guess_stress+=(stresses1[i])\n",
    "        # For differing values, append an integer that is the sum of the two values to the best_guest_stress string\n",
    "            else:\n",
    "                best_guess_stress+=(stresses1[i] + stresses2[i] + ' ')\n",
    "        return best_guess_stress\n",
    "    else: # There is only one pronunciation\n",
    "        phones_list = []\n",
    "        phones_list = prn.phones_for_word(word)\n",
    "\n",
    "        stresses_string = prn.stresses(phones_list[0])\n",
    "        return stresses_string\n",
    "         \n",
    "\n",
    "stress_string(\"Excuse\")\n",
    "\n",
    "# Function that takes in a list of words (strings) and returns a single string of stresses\n",
    "def word_list_to_stresses(word_lower_list):\n",
    "    # Turn the list of words into a list of phonemes\n",
    "    pronunciation_list = []\n",
    "    stress_list = []\n",
    "    print(3)\n",
    "    # Make a list of stress data by adding the stress data for one word at a time\n",
    "    for word in word_lower_list:\n",
    "        # Get the stress string data and storing it in the stresses variable\n",
    "        stresses = stress_string(word) \n",
    "        #stress_string(word)\n",
    "        stresses__and_space_data += stresses + \" \"\n",
    "        stresses_string = ''.join(stress_list)\n",
    "    return stresses_string\n",
    "\n",
    "word_list_to_stresses(word_list)\n",
    "\n",
    "# Extra Stuff\n",
    "prn.stresses(str1)\n",
    "# Function that takes in a list of words (strings) and returns a single string of stresses\n",
    "def words_to_stresses(word_lower_list):\n",
    "    # Turn the list of words into a list of phonemes\n",
    "    pronunciation_list = []\n",
    "    stress_list = []\n",
    "    print(3)\n",
    "    # Make a list of stress data by adding the stress data for one word at a time\n",
    "    for word in word_lower_list:\n",
    "        # If there is only one pronunciation, add it to the list\n",
    "        if (more_than_one_pronunciation(word) == False):\n",
    "            word = \"\\\"\" + word + \"\\\"\"\n",
    "            phones_list = prn.phones_for_word(word)\n",
    "            print(phones_list + \"Ayeee\")\n",
    "            print (prn.phones_for_word(word))\n",
    "            pronunciation_list.append(phones_list[0])\n",
    "            print(word)\n",
    "            stresses = prn.stresses(pronunciation_list[0])\n",
    "            stress_list.append(stresses)\n",
    "        elif (more_than_one_pronunciation(word)):\n",
    "            #Check if stresses are the same for the different pronunciations,\n",
    "            print(\"Shit\")\n",
    "            word = \"\\\"\" + word + \"\\\"\"\n",
    "            print(word)\n",
    "            phones_list = prn.phones_for_word(word)\n",
    "            print(9)\n",
    "            print (phones_list)\n",
    "            if (consistent_stress_pattern(word)):\n",
    "                print(\"Crap\")\n",
    "                print (phones_list)\n",
    "                # Add the first pronunciation to the list\n",
    "                pronunciation_list.append(phones_list[0])\n",
    "                stresses = prn.stresses(pronunciation_list[0])\n",
    "                stress_list.append(stresses)\n",
    "            elif (consistent_stress_pattern(word) == False):\n",
    "                # Returning the same number of 3's as character is phones_list[0]\n",
    "                pronunciation_list.append(phones_list[0])\n",
    "                pronunciation_list.append(phones_list[1])\n",
    "                print (pronunciation_list)\n",
    "                stresses1 = prn.stresses(pronunciation_list[0])\n",
    "                stresses2 = prn.stresses(pronunciation_list[1])\n",
    "                best_guess_stress = ''\n",
    "                # For the different pronunciations, find out where they overlap\n",
    "                for i in range(0, len(stresses1)):\n",
    "                    # Keep overlapping values\n",
    "                    if (stresses1[i] == stresses2[i]):\n",
    "                        best_guess_stress+=(stresses1[i])\n",
    "                    # For differing values, insert a 3 to indicate the different possibilities\n",
    "                    else:\n",
    "                        # Algorithms \n",
    "                        best_guess_stress+=(\"3\")\n",
    "                        i = i + 1\n",
    "                        # Should probably store the 2 states it could be in \n",
    "                        \n",
    "                stress_list+=(best_guess_stress)   \n",
    "    stresses_string = ''.join(stress_list)\n",
    "    return stresses_string\n",
    "\n",
    "words_to_stresses(word_list)\n",
    "                \n",
    "\n",
    "\n",
    "phones_list = prn.phones_for_word(\"snappiest\")\n",
    "prn.stresses(phones_list[0])\n",
    "\n",
    "#print (prn.phones_for_word(word) for word in word_list)\n",
    "    #phoneme_list = (prn.phones_for_word(word) for word in word_list)\n",
    "    #print (phoneme_list)\n",
    "    # Turn the list of phonemes into a single string of phonemes, keeping spaces between words\n",
    "    #phoneme_str = ''.join(pronunciation_list)\n",
    "    # Return the string with the phonemes and spaces for the whole sentence\n",
    "    #return phoneme_list\n",
    "    \n",
    "    # Function that takes in a list of words (strings) and returns a list of phonmes (strings)\n",
    "def words_to_phones_list( word_list ):\n",
    "    # Turn the list of words into a list of phonemes\n",
    "    pronunciation_list = []\n",
    "    word_lower = []\n",
    "    # Make each word lowercase because the API needs the word like this\n",
    "    #word_lower.append(word.lower() for word in word_list)\n",
    "    #print(word_lower)\n",
    "    # Make a list of the pronunciations for each word in the sentence (actually is a list of lists)\n",
    "    pronunciation_list.append(prn.phones_for_word(word) for word in word_lower)\n",
    "    # Turn the list of lists into a single list\n",
    "    pronunciation_list_flat = sum(pronunciation_list, [])    \n",
    "    return pronunciation_list_flat\n",
    "\n",
    "a  = (\"GO,ham baby\")\n",
    "b = a.split(',')\n",
    "print (b[i] for i in range(0, len(b))) \n",
    "\n",
    "    \n",
    "pronun_list = words_to_phones_list( word_list )\n",
    "\n",
    "# Function to check if the stress pattern is the same for two words\n",
    "def stress_pattern_is_same(word1, word2):\n",
    "    phones_list = []\n",
    "    phones_list[0] = prn.phones_for_word(word1)\n",
    "    print (phones_list[0])\n",
    "    stresses_word1 = prn.stresses(phones_list[0])\n",
    "    stress_list = prn.stresses(phones_list[0])\n",
    "    print (len(phones_list))\n",
    "    phones_list[0] = prn.phones_for_word(word2)\n",
    "    print (phones_list[0])\n",
    "    stresses_word1 = prn.stresses(phones_list[0])\n",
    "    stresses_word2 = prn.stresses(phones_list[1])\n",
    "    return (stresses_word1 == stresses_word2)\n",
    "\n",
    "stress_pattern_is_same(\"word\", \"turd\")\n",
    "\n",
    "\n",
    "# Turn the list of lists into a single list of strings\n",
    "    pronunciation_list_flat = sum(pronunciation_list, [])  \n",
    "    print (pronunciation_list_flat)\n",
    "    # Turn the list of strings into a single string\n",
    "    pronunciation_string = ''.join(pronunciation_list_flat)\n",
    "    \n",
    "#if (',' in prn.phones_for_word(word)):\n",
    "\n",
    "m = prn.phones_for_word(\"permit\")\n",
    "prn.stresses(m[0])\n",
    "if (len(m) > 1):\n",
    "    print(3)\n",
    "else:\n",
    "    print(4)\n",
    "\n",
    "\n",
    "# Function that takes in a list of words (strings) and returns a list of phonmes (strings)\n",
    "def words_to_phones_list( word_list ):\n",
    "    # Turn the list of words into a list of phonemes\n",
    "    pronunciation_list = []\n",
    "    word_lower = []\n",
    "    # Make each word lowercase because the API needs the word like this\n",
    "    for word in word_list:\n",
    "        word_lower.append(word.lower())\n",
    "    # Make a list of the pronunciations for each word in the sentence (actually is a list of lists)\n",
    "    for word in word_lower:\n",
    "        pronunciation_list.append(prn.phones_for_word(word))\n",
    "    # Turn the list of lists into a single list of strings\n",
    "    pronunciation_list_flat = sum(pronunciation_list, [])  \n",
    "    print (pronunciation_list_flat)\n",
    "    # Turn the list of strings into a single string\n",
    "    pronunciation_string = ''.join(pronunciation_list_flat)\n",
    "    return pronunciation_string\n",
    "\n",
    "    \n",
    "pronun_list = words_to_phones_list( word_list )\n",
    "pronun_list # The pronunciation of a line of a song\n",
    "\n",
    "\n",
    "\n",
    "# Function to tell if a word has more than one pronunciation, and if so, the stress pattern\n",
    "def stress_pattern( word ):\n",
    "    #If there are multiple ways to pronounce the word\n",
    "    phones_list = []\n",
    "    phones_list.append(prn.phones_for_word(word))\n",
    "    \n",
    "    if (',' in prn.stresses(word)):\n",
    "        stress_string_list = prn.stresses(word).split(',')\n",
    "        for stress_string in stress_string_list:\n",
    "            # Check if the stress patterns are the same for all of the stress_strings\n",
    "            if (stress_string_list[0] == stress_string):\n",
    "                # If the stress patterns are the same, add one copy to the list of stresses\n",
    "                return stress_string[0]\n",
    "            else: # The stress patterns are different, so mark this part as ambiguous denoted by\n",
    "                return (\"$\"*len(stress_string_list[0])) \n",
    "            # $ that take up the same amount of space as the number of charcters in the str\n",
    "        # if (the string before the comma, is the same as the string after the comma)\n",
    "        #if (prn.stresses(word).substring[:','] == prn.stresses(word).substring[',':])\n",
    "        return\n",
    "    else: # There is one way to pronounce the word\n",
    "        return prn.stresses(word)\n",
    "\n",
    "c = stress_pattern(\"permit\") \n",
    "print(c)\n",
    "\n",
    "d = prn.phones_for_word(\"permit\")\n",
    "e = prn.stresses(d[0])\n",
    "print(e)\n",
    "print(d)\n",
    "#stress_pattern(\"permit\")\n",
    "#prn.phones_for_word(\"permit\")\n",
    "#prn.phones_for_word(\"capital\")\n",
    "\n",
    "# Function that takes in a list of words (strings) and returns a list of phonmes (strings)\n",
    "def words_to_phones_list( word_list ):\n",
    "    # Turn the list of words into a list of phonemes\n",
    "    pronunciation_list = []\n",
    "    word_lower = []\n",
    "    # Make each word lowercase because the API needs the word like this\n",
    "    for word in word_list:\n",
    "        word_lower.append(word.lower())\n",
    "    # Make a list of the pronunciations for each word in the sentence (actually is a list of lists)\n",
    "    for word in word_lower:\n",
    "        if #there is only 1 result returned by phones_for_word(word)\n",
    "            # Add the phones result to the list of phones\n",
    "            pronunciation_list.append(prn.phones_for_word(word))\n",
    "        else if #there are 2 results for pronunciation but they have the same stresses\n",
    "            # Add the stress pattern (only one copy) and continue\n",
    "        else # there are two different pronunciations possible\n",
    "            # Add a mark to the data so we know where and how many parts are ambiguously stressed\n",
    "    # Turn the list of lists into a single list of strings\n",
    "    pronunciation_list_flat = sum(pronunciation_list, [])  \n",
    "    print (pronunciation_list_flat)\n",
    "    # Turn the list of strings into a single string\n",
    "    pronunciation_string = ''.join(pronunciation_list_flat)\n",
    "    return pronunciation_string\n",
    "\n",
    "    \n",
    "pronun_list = words_to_phones_list( word_list )\n",
    "pronun_list # The pronunciation of a line of a song\n",
    "\n",
    "phones_list = prn.phones_for_word(\"word\")\n",
    "pronunciation_list = \n",
    "\n",
    "# Function that takes in a list of words (strings) and returns a single string of phonmes \n",
    "def words_to_phones_list( word_list ):\n",
    "    # Turn the list of words into a list of phonemes\n",
    "    pronunciation_list = []\n",
    "    word_lower = []\n",
    "    # Make each word lowercase because the API needs the word like this\n",
    "    for word in word_list:\n",
    "        word_lower.append(word.lower())\n",
    "    # Make a list of the pronunciations for each word in the sentence (actually is a list of lists)\n",
    "    for word in word_lower:\n",
    "        phones_list = prn.phones_for_word(word)\n",
    "        print(len(phones_list))\n",
    "        # Check if there are multiple pronunciations\n",
    "        if (len(phones_list) > 1):\n",
    "            # Check if stresses are the same for the different pronunciations,\n",
    "            if (consistent_stress_pattern(word)):\n",
    "                # Add the first pronunciation to the list\n",
    "                pronunciation_list.append(phones_list[0]) \n",
    "                #pronunciation_list.append(prn.phones_for_word(word))\n",
    "            elif (consistent_stress_pattern(word) == False):\n",
    "                # Indicate by returning the same number of 3's as character is phones_list[0]\n",
    "                a = \"3\" * len(phones_list[0])\n",
    "                return a\n",
    "        else: # There is only one pronunciation, which should be added to the list\n",
    "            pronunciation_list.append(phones_list[0])       \n",
    "    return pronunciation_list\n",
    "\n",
    "    \n",
    "pronun_list = words_to_phones_list( word_list )\n",
    "pronun_list # The pronunciation of a line of a song\n",
    "#words_to_phones_list(\"car\")\n",
    "\n",
    "# Function that takes in a list of words (strings) and returns a single string of phonmes \n",
    "def words_to_phones_list( word_list ):\n",
    "    # Turn the list of words into a list of phonemes\n",
    "    pronunciation_list = []\n",
    "    word_lower = []\n",
    "    # Make each word lowercase because the API needs the word like this\n",
    "    for word in word_list:\n",
    "        word_lower.append(word.lower())\n",
    "    # Make a list of the pronunciations for each word in the sentence (actually is a list of lists)\n",
    "    for word in word_lower:\n",
    "        phones_list = prn.phones_for_word(word)\n",
    "        # There are multiple pronunciations\n",
    "        if (len(phones_list) > 1):\n",
    "            # Check if stresses are the same for the different pronunciations,\n",
    "            if (consistent_stress_pattern(word)):\n",
    "                # Add the first pronunciation to the list\n",
    "                pronunciation_list.append(phones_list[0]) \n",
    "                #pronunciation_list.append(prn.phones_for_word(word))\n",
    "            elif (consistent_stress_pattern(word) == False):\n",
    "                # Indicate by returning the same number of 3's as character is phones_list[0]\n",
    "                a = \"3\" * len(phones_list[0])\n",
    "                return a\n",
    "        else: # There is only one pronunciation, which should be added to the list\n",
    "            pronunciation_list.append(phones_list[0])       \n",
    "    pronunciation_string = ''.join(pronunciation_list)\n",
    "    return pronunciation_string\n",
    "\n",
    "    \n",
    "pronun_list = words_to_phones_list( word_list )\n",
    "pronun_list # The pronunciation of a line of a song\n",
    "words_to_phones_list(\"permit\")\n",
    "\n",
    "# Funciton to check if the stress pattern is always the same for a given word\n",
    "def consistent_stress_pattern(word):\n",
    "    phones_list = prn.phones_for_word(word)\n",
    "    if (more_than_one_pronunciation(word)):\n",
    "        stress1 = prn.stresses(phones_list[0])\n",
    "        stress2 = prn.stresses(phones_list[1])\n",
    "        return (stress1 == stress2)\n",
    "    else: # there is only one pronunciation of the word\n",
    "        return True\n",
    "\n",
    "consistent_stress_pattern(\"baby\")"
   ]
  }
 ],
 "metadata": {
  "anaconda-cloud": {},
  "kernelspec": {
   "display_name": "Python [conda root]",
   "language": "python",
   "name": "conda-root-py"
  },
  "language_info": {
   "codemirror_mode": {
    "name": "ipython",
    "version": 3
   },
   "file_extension": ".py",
   "mimetype": "text/x-python",
   "name": "python",
   "nbconvert_exporter": "python",
   "pygments_lexer": "ipython3",
   "version": "3.5.2"
  }
 },
 "nbformat": 4,
 "nbformat_minor": 1
}

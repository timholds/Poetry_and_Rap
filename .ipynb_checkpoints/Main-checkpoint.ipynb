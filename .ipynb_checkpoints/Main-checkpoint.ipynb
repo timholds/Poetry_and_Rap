{
 "cells": [
  {
   "cell_type": "code",
   "execution_count": 2,
   "metadata": {
    "collapsed": false
   },
   "outputs": [],
   "source": [
    "import pronouncing as prn\n",
    "import pandas as pd\n",
    "import numpy as np"
   ]
  },
  {
   "cell_type": "code",
   "execution_count": 17,
   "metadata": {
    "collapsed": false
   },
   "outputs": [
    {
     "name": "stdout",
     "output_type": "stream",
     "text": [
      "Enter a 4 or 8 count of song lyricsI don't need, anybody\n",
      "['AY1']\n",
      "['D OW1 N T', 'D OW1 N']\n",
      "['N IY1 D']\n",
      "['EH1 N IY0 B AH0 D IY0']\n"
     ]
    },
    {
     "ename": "ValueError",
     "evalue": "string size must be a multiple of element size",
     "output_type": "error",
     "traceback": [
      "\u001b[0;31m---------------------------------------------------------------------------\u001b[0m",
      "\u001b[0;31mValueError\u001b[0m                                Traceback (most recent call last)",
      "\u001b[0;32m<ipython-input-17-48b9d91938ce>\u001b[0m in \u001b[0;36m<module>\u001b[0;34m()\u001b[0m\n\u001b[1;32m      9\u001b[0m     \u001b[0;32mreturn\u001b[0m \u001b[0mstresses_array\u001b[0m\u001b[0;34m\u001b[0m\u001b[0m\n\u001b[1;32m     10\u001b[0m \u001b[0;34m\u001b[0m\u001b[0m\n\u001b[0;32m---> 11\u001b[0;31m \u001b[0mstresses_string\u001b[0m \u001b[0;34m=\u001b[0m \u001b[0mmain\u001b[0m\u001b[0;34m(\u001b[0m\u001b[0;34m)\u001b[0m\u001b[0;34m\u001b[0m\u001b[0m\n\u001b[0m\u001b[1;32m     12\u001b[0m \u001b[0mstresses_string\u001b[0m\u001b[0;34m\u001b[0m\u001b[0m\n\u001b[1;32m     13\u001b[0m \u001b[0;34m\u001b[0m\u001b[0m\n",
      "\u001b[0;32m<ipython-input-17-48b9d91938ce>\u001b[0m in \u001b[0;36mmain\u001b[0;34m()\u001b[0m\n\u001b[1;32m      6\u001b[0m     \u001b[0mword_lower_list\u001b[0m \u001b[0;34m=\u001b[0m \u001b[0mword_list_to_lowercase\u001b[0m\u001b[0;34m(\u001b[0m\u001b[0mword_list\u001b[0m\u001b[0;34m)\u001b[0m\u001b[0;34m\u001b[0m\u001b[0m\n\u001b[1;32m      7\u001b[0m     \u001b[0mstresses_string\u001b[0m \u001b[0;34m=\u001b[0m \u001b[0mword_list_to_stresses\u001b[0m\u001b[0;34m(\u001b[0m\u001b[0mword_lower_list\u001b[0m\u001b[0;34m)\u001b[0m\u001b[0;34m\u001b[0m\u001b[0m\n\u001b[0;32m----> 8\u001b[0;31m     \u001b[0mstresses_array\u001b[0m \u001b[0;34m=\u001b[0m \u001b[0mstress_string_to_array\u001b[0m\u001b[0;34m(\u001b[0m\u001b[0mstresses_string\u001b[0m\u001b[0;34m)\u001b[0m\u001b[0;34m\u001b[0m\u001b[0m\n\u001b[0m\u001b[1;32m      9\u001b[0m     \u001b[0;32mreturn\u001b[0m \u001b[0mstresses_array\u001b[0m\u001b[0;34m\u001b[0m\u001b[0m\n\u001b[1;32m     10\u001b[0m \u001b[0;34m\u001b[0m\u001b[0m\n",
      "\u001b[0;32m<ipython-input-12-b72c3bfd26ef>\u001b[0m in \u001b[0;36mstress_string_to_array\u001b[0;34m(line_of_data_str)\u001b[0m\n\u001b[1;32m      1\u001b[0m \u001b[0;31m# Function to write np array and then convert write to database\u001b[0m\u001b[0;34m\u001b[0m\u001b[0;34m\u001b[0m\u001b[0m\n\u001b[1;32m      2\u001b[0m \u001b[0;32mdef\u001b[0m \u001b[0mstress_string_to_array\u001b[0m\u001b[0;34m(\u001b[0m\u001b[0mline_of_data_str\u001b[0m\u001b[0;34m)\u001b[0m\u001b[0;34m:\u001b[0m\u001b[0;34m\u001b[0m\u001b[0m\n\u001b[0;32m----> 3\u001b[0;31m     \u001b[0mline_of_data_array\u001b[0m \u001b[0;34m=\u001b[0m \u001b[0mnp\u001b[0m\u001b[0;34m.\u001b[0m\u001b[0mfromstring\u001b[0m\u001b[0;34m(\u001b[0m\u001b[0mline_of_data_str\u001b[0m\u001b[0;34m)\u001b[0m\u001b[0;34m\u001b[0m\u001b[0m\n\u001b[0m\u001b[1;32m      4\u001b[0m \u001b[0;34m\u001b[0m\u001b[0m\n\u001b[1;32m      5\u001b[0m \u001b[0mdata\u001b[0m \u001b[0;34m=\u001b[0m \u001b[0mstress_string_to_array\u001b[0m\u001b[0;34m(\u001b[0m\u001b[0mline_of_data_str\u001b[0m\u001b[0;34m)\u001b[0m\u001b[0;34m\u001b[0m\u001b[0m\n",
      "\u001b[0;31mValueError\u001b[0m: string size must be a multiple of element size"
     ]
    }
   ],
   "source": [
    "# Function that takes in a string and returns a single string of stresses\n",
    "#take in string and make list of strings\n",
    "def main():\n",
    "    line = get_line()\n",
    "    word_list = lines_to_words_list(line)\n",
    "    word_lower_list = word_list_to_lowercase(word_list)\n",
    "    stresses_string = word_list_to_stresses(word_lower_list)\n",
    "    stresses_array = stress_string_to_array(stresses_string)\n",
    "    return stresses_array\n",
    "\n",
    "stresses_string = main()\n",
    "stresses_string\n",
    "\n",
    "#Write main to a file\n",
    "#File should be array"
   ]
  },
  {
   "cell_type": "code",
   "execution_count": 7,
   "metadata": {
    "collapsed": false
   },
   "outputs": [],
   "source": [
    "# data is a np array of the stress data\n",
    "# Funcion to save to a text file\n",
    "#np.savetxt('Song1', data, fmt='%d')"
   ]
  },
  {
   "cell_type": "code",
   "execution_count": 26,
   "metadata": {
    "collapsed": false
   },
   "outputs": [
    {
     "name": "stdout",
     "output_type": "stream",
     "text": [
      "Enter a 4 or 8 count of song lyricsAnyday, hit me baby one more time finally\n"
     ]
    }
   ],
   "source": [
    "# Function to get the string from the user (later to be automated for an entire song)\n",
    "def get_line():\n",
    "    text = input(\"Enter a 4 or 8 count of song lyrics\")\n",
    "    return text\n",
    "\n",
    "line = get_line()"
   ]
  },
  {
   "cell_type": "code",
   "execution_count": 27,
   "metadata": {
    "collapsed": false
   },
   "outputs": [
    {
     "data": {
      "text/plain": [
       "['Anyday', 'hit', 'me', 'baby', 'one', 'more', 'time', 'finally']"
      ]
     },
     "execution_count": 27,
     "metadata": {},
     "output_type": "execute_result"
    }
   ],
   "source": [
    "# Function to break the line (a string) into a list of strings of the words and phonemes\n",
    "def lines_to_words_list (line):\n",
    "    # Take in the line, break up into a list of words\n",
    "    word_list_with_commas = line.split()\n",
    "    # Strip each item of any potential commas or periods\n",
    "    word_list = [word.strip(\",.?!\") for word in word_list_with_commas]\n",
    "    return (word_list)\n",
    "\n",
    "word_list = lines_to_words_list(line)\n",
    "word_list\n"
   ]
  },
  {
   "cell_type": "code",
   "execution_count": 28,
   "metadata": {
    "collapsed": false
   },
   "outputs": [
    {
     "data": {
      "text/plain": [
       "['anyday', 'hit', 'me', 'baby', 'one', 'more', 'time', 'finally']"
      ]
     },
     "execution_count": 28,
     "metadata": {},
     "output_type": "execute_result"
    }
   ],
   "source": [
    "# Function that takes in the list of words and makes them all lowercase for the pronouncing API\n",
    "def word_list_to_lowercase(word_list):\n",
    "    word_lower_list = []\n",
    "    for word in word_list:\n",
    "        word_lower_list.append(word.lower())\n",
    "    return word_lower_list\n",
    "\n",
    "word_lower_list = word_list_to_lowercase(word_list)\n",
    "word_lower_list"
   ]
  },
  {
   "cell_type": "code",
   "execution_count": null,
   "metadata": {
    "collapsed": false
   },
   "outputs": [],
   "source": []
  },
  {
   "cell_type": "code",
   "execution_count": null,
   "metadata": {
    "collapsed": false
   },
   "outputs": [],
   "source": []
  },
  {
   "cell_type": "code",
   "execution_count": 32,
   "metadata": {
    "collapsed": false
   },
   "outputs": [
    {
     "data": {
      "text/plain": [
       "'S'"
      ]
     },
     "execution_count": 32,
     "metadata": {},
     "output_type": "execute_result"
    }
   ],
   "source": [
    "# Function to check if there is more than one pronunciation for a word\n",
    "def more_than_one_pronunciation(word):\n",
    "    word_lower = word.lower()\n",
    "    phones_list = prn.phones_for_word(word_lower)\n",
    "    if (len(phones_list) > 1):\n",
    "        return True\n",
    "    elif (len(phones_list) == 1):\n",
    "        return False\n",
    "    else: #This word doesn't have a known pronunciation in the dicitionary\n",
    "        slang = \"S\"\n",
    "        return slang\n",
    "    \n",
    "more_than_one_pronunciation(\"Nps\")\n"
   ]
  },
  {
   "cell_type": "code",
   "execution_count": 33,
   "metadata": {
    "collapsed": true
   },
   "outputs": [],
   "source": [
    "# Funciton to check if the stress pattern is always the same for a given word\n",
    "def consistent_stress_pattern(word):\n",
    "    # Check to see if there is more pronunciation for a word\n",
    "    if (more_than_one_pronunciation(word) == False):\n",
    "        return True\n",
    "    elif (more_than_one_pronunciation(word) == True): # There is more than one pronunciation and we want to know if they have the same stress pattern\n",
    "        word_lower = word.lower()\n",
    "        phones_list = prn.phones_for_word(word_lower)\n",
    "        stress1 = prn.stresses(phones_list[0])\n",
    "        stress2 = prn.stresses(phones_list[1])\n",
    "        return (stress1 == stress2)\n",
    "    elif (more_than_one_pronunciation(word) == 3):\n",
    "        return \"S\"\n",
    "\n",
    "consistent_stress_pattern(\"Swaggity\")"
   ]
  },
  {
   "cell_type": "code",
   "execution_count": 35,
   "metadata": {
    "collapsed": false
   },
   "outputs": [],
   "source": [
    "# Function for giving the stress (0, 1, or 2 for unstressed, stressed, and semi-stressed ) \n",
    "# for a given word, including two values (0/1) for each\n",
    "# space when that word has multiple pronunciations\n",
    "def stress_string(word):\n",
    "    word = word.lower()\n",
    "    if (consistent_stress_pattern(word)== True):\n",
    "        phones_list = prn.phones_for_word(word)\n",
    "        print (phones_list)\n",
    "        stresses_string = prn.stresses(phones_list[0])\n",
    "        return stresses_string\n",
    "    elif (consistent_stress_pattern(word) == False):   \n",
    "        word_lower = word.lower()\n",
    "        phones_list = prn.phones_for_word(word_lower)\n",
    "        print (phones_list)\n",
    "        # Create a list to store the pronunciation strings\n",
    "        pronunciation_list = []\n",
    "        # Words with two pronunciations create two items in our list\n",
    "        pronunciation_list.append(phones_list[0])\n",
    "        pronunciation_list.append(phones_list[1])\n",
    "        # Compute the stress data from these strings and store the results in the stresses variables\n",
    "        stresses1 = prn.stresses(pronunciation_list[0])\n",
    "        stresses2 = prn.stresses(pronunciation_list[1])\n",
    "        # Create a new string to represent our stress data for this word\n",
    "        best_guess_stress_string = ''\n",
    "        # For the different stress data points, find out where they overlap and diverge\n",
    "        for i in range(0, len(stresses1)):\n",
    "        # Keep the data points that are constant in the two pronunciations\n",
    "            if (stresses1[i] == stresses2[i]):\n",
    "                best_guess_stress_string+=(stresses1[i])\n",
    "        # For differing values, append an integer that is the sum of the two values to the best_guest_stress string\n",
    "            else:\n",
    "                best_guess_stress_string+=(stresses1[i] + \"/\" + stresses2[i] + ' ')\n",
    "        return best_guess_stress_string\n",
    "    elif (consistent_stress_pattern(word) == 3):\n",
    "        return \"S\"\n",
    "\n",
    "stress_string(\"swiggity\")"
   ]
  },
  {
   "cell_type": "code",
   "execution_count": 39,
   "metadata": {
    "collapsed": false
   },
   "outputs": [
    {
     "ename": "TypeError",
     "evalue": "unsupported operand type(s) for +: 'NoneType' and 'str'",
     "output_type": "error",
     "traceback": [
      "\u001b[0;31m---------------------------------------------------------------------------\u001b[0m",
      "\u001b[0;31mTypeError\u001b[0m                                 Traceback (most recent call last)",
      "\u001b[0;32m<ipython-input-39-c7f39b52a2b7>\u001b[0m in \u001b[0;36m<module>\u001b[0;34m()\u001b[0m\n\u001b[1;32m     13\u001b[0m     \u001b[0;32mreturn\u001b[0m \u001b[0mstresses_string\u001b[0m\u001b[0;34m\u001b[0m\u001b[0m\n\u001b[1;32m     14\u001b[0m \u001b[0;34m\u001b[0m\u001b[0m\n\u001b[0;32m---> 15\u001b[0;31m \u001b[0mline_of_data_str\u001b[0m \u001b[0;34m=\u001b[0m \u001b[0mword_list_to_stresses\u001b[0m\u001b[0;34m(\u001b[0m\u001b[0mword_lower_list\u001b[0m\u001b[0;34m)\u001b[0m\u001b[0;34m\u001b[0m\u001b[0m\n\u001b[0m\u001b[1;32m     16\u001b[0m \u001b[0mline_of_data_str\u001b[0m\u001b[0;34m\u001b[0m\u001b[0m\n",
      "\u001b[0;32m<ipython-input-39-c7f39b52a2b7>\u001b[0m in \u001b[0;36mword_list_to_stresses\u001b[0;34m(word_lower_list)\u001b[0m\n\u001b[1;32m      9\u001b[0m         \u001b[0;31m# Get the stress string data by calling a method, passing the word, and storing it in the stresses variable\u001b[0m\u001b[0;34m\u001b[0m\u001b[0;34m\u001b[0m\u001b[0m\n\u001b[1;32m     10\u001b[0m         \u001b[0mstresses\u001b[0m \u001b[0;34m=\u001b[0m \u001b[0mstress_string\u001b[0m\u001b[0;34m(\u001b[0m\u001b[0mword\u001b[0m\u001b[0;34m)\u001b[0m\u001b[0;34m\u001b[0m\u001b[0m\n\u001b[0;32m---> 11\u001b[0;31m         \u001b[0mstresses_and_space_data\u001b[0m \u001b[0;34m+=\u001b[0m \u001b[0mstresses\u001b[0m \u001b[0;34m+\u001b[0m \u001b[0;34m\" \"\u001b[0m\u001b[0;34m\u001b[0m\u001b[0m\n\u001b[0m\u001b[1;32m     12\u001b[0m     \u001b[0mstresses_string\u001b[0m \u001b[0;34m=\u001b[0m \u001b[0;34m''\u001b[0m\u001b[0;34m.\u001b[0m\u001b[0mjoin\u001b[0m\u001b[0;34m(\u001b[0m\u001b[0mstresses_and_space_data\u001b[0m\u001b[0;34m)\u001b[0m\u001b[0;34m\u001b[0m\u001b[0m\n\u001b[1;32m     13\u001b[0m     \u001b[0;32mreturn\u001b[0m \u001b[0mstresses_string\u001b[0m\u001b[0;34m\u001b[0m\u001b[0m\n",
      "\u001b[0;31mTypeError\u001b[0m: unsupported operand type(s) for +: 'NoneType' and 'str'"
     ]
    }
   ],
   "source": [
    "# Function that takes in a list of words (strings) and returns a single string of stresses\n",
    "def word_list_to_stresses(word_lower_list):\n",
    "    # Turn the list of words into a list of phonemes\n",
    "    pronunciation_list = []\n",
    "    stress_list = []\n",
    "    # Make a list of stress data by adding the stress data for one word at a time\n",
    "    stresses_and_space_data = \"\"\n",
    "    for word in word_lower_list:\n",
    "        # Get the stress string data by calling a method, passing the word, and storing it in the stresses variable\n",
    "        stresses = stress_string(word) \n",
    "        stresses_and_space_data += stresses + \" \"\n",
    "    stresses_string = ''.join(stresses_and_space_data)    \n",
    "    return stresses_string\n",
    "\n",
    "line_of_data_str = word_list_to_stresses(word_lower_list)\n",
    "line_of_data_str\n"
   ]
  },
  {
   "cell_type": "code",
   "execution_count": null,
   "metadata": {
    "collapsed": true
   },
   "outputs": [],
   "source": [
    "# Function that takes in a list of words (strings) and returns an array of stresses\n",
    "def word_list_to_stresses(word_lower_list):\n",
    "    # Turn the list of words into a list of phonemes\n",
    "    pronunciation_list = []\n",
    "    stress_list = []\n",
    "    # Make a list of stress data by adding the stress data for one word at a time\n",
    "    stresses_and_space_data = \"\"\n",
    "    for word in word_lower_list:\n",
    "        # Get the stress string data by calling a method, passing the word, and storing it in the stresses variable\n",
    "        stresses = stress_string(word) \n",
    "        stresses_and_space_data = np.array(add stresses data)\n",
    "    stresses_string = ''.join(stresses_and_space_data)    \n",
    "    return stresses_string\n",
    "\n",
    "line_of_data_str = word_list_to_stresses(word_lower_list)\n",
    "line_of_data_str\n"
   ]
  },
  {
   "cell_type": "code",
   "execution_count": 37,
   "metadata": {
    "collapsed": false
   },
   "outputs": [
    {
     "ename": "ValueError",
     "evalue": "string size must be a multiple of element size",
     "output_type": "error",
     "traceback": [
      "\u001b[0;31m---------------------------------------------------------------------------\u001b[0m",
      "\u001b[0;31mValueError\u001b[0m                                Traceback (most recent call last)",
      "\u001b[0;32m<ipython-input-37-cc4721537dd4>\u001b[0m in \u001b[0;36m<module>\u001b[0;34m()\u001b[0m\n\u001b[1;32m      3\u001b[0m     \u001b[0mline_of_data_array\u001b[0m \u001b[0;34m=\u001b[0m \u001b[0mnp\u001b[0m\u001b[0;34m.\u001b[0m\u001b[0mfromstring\u001b[0m\u001b[0;34m(\u001b[0m\u001b[0mline_of_data_str\u001b[0m\u001b[0;34m)\u001b[0m\u001b[0;34m\u001b[0m\u001b[0m\n\u001b[1;32m      4\u001b[0m \u001b[0;34m\u001b[0m\u001b[0m\n\u001b[0;32m----> 5\u001b[0;31m \u001b[0mdata\u001b[0m \u001b[0;34m=\u001b[0m \u001b[0mstress_string_to_array\u001b[0m\u001b[0;34m(\u001b[0m\u001b[0;34m\"1 0 2\"\u001b[0m\u001b[0;34m)\u001b[0m\u001b[0;34m\u001b[0m\u001b[0m\n\u001b[0m\u001b[1;32m      6\u001b[0m \u001b[0mdata\u001b[0m\u001b[0;34m\u001b[0m\u001b[0m\n",
      "\u001b[0;32m<ipython-input-37-cc4721537dd4>\u001b[0m in \u001b[0;36mstress_string_to_array\u001b[0;34m(line_of_data_str, dtype, count, sep)\u001b[0m\n\u001b[1;32m      1\u001b[0m \u001b[0;31m# Function to write np array and then convert write to database\u001b[0m\u001b[0;34m\u001b[0m\u001b[0;34m\u001b[0m\u001b[0m\n\u001b[1;32m      2\u001b[0m \u001b[0;32mdef\u001b[0m \u001b[0mstress_string_to_array\u001b[0m\u001b[0;34m(\u001b[0m\u001b[0mline_of_data_str\u001b[0m\u001b[0;34m,\u001b[0m \u001b[0mdtype\u001b[0m\u001b[0;34m=\u001b[0m\u001b[0mfloat\u001b[0m\u001b[0;34m,\u001b[0m \u001b[0mcount\u001b[0m\u001b[0;34m=\u001b[0m\u001b[0;34m-\u001b[0m\u001b[0;36m1\u001b[0m\u001b[0;34m,\u001b[0m \u001b[0msep\u001b[0m\u001b[0;34m=\u001b[0m\u001b[0;34m' '\u001b[0m\u001b[0;34m)\u001b[0m\u001b[0;34m:\u001b[0m\u001b[0;34m\u001b[0m\u001b[0m\n\u001b[0;32m----> 3\u001b[0;31m     \u001b[0mline_of_data_array\u001b[0m \u001b[0;34m=\u001b[0m \u001b[0mnp\u001b[0m\u001b[0;34m.\u001b[0m\u001b[0mfromstring\u001b[0m\u001b[0;34m(\u001b[0m\u001b[0mline_of_data_str\u001b[0m\u001b[0;34m)\u001b[0m\u001b[0;34m\u001b[0m\u001b[0m\n\u001b[0m\u001b[1;32m      4\u001b[0m \u001b[0;34m\u001b[0m\u001b[0m\n\u001b[1;32m      5\u001b[0m \u001b[0mdata\u001b[0m \u001b[0;34m=\u001b[0m \u001b[0mstress_string_to_array\u001b[0m\u001b[0;34m(\u001b[0m\u001b[0;34m\"1 0 2\"\u001b[0m\u001b[0;34m)\u001b[0m\u001b[0;34m\u001b[0m\u001b[0m\n",
      "\u001b[0;31mValueError\u001b[0m: string size must be a multiple of element size"
     ]
    }
   ],
   "source": [
    "# Function to write np array and then convert write to database\n",
    "def stress_string_to_array(line_of_data_str, dtype=float, count=-1, sep=' '):\n",
    "    line_of_data_array = np.fromstring(line_of_data_str)\n",
    "\n",
    "data = stress_string_to_array(\"1 0 2\")\n",
    "data"
   ]
  },
  {
   "cell_type": "code",
   "execution_count": null,
   "metadata": {
    "collapsed": false
   },
   "outputs": [],
   "source": [
    "# Function to take a string in and output the pronunciation\n",
    "def pronunciation():\n",
    "    line = get_line()\n",
    "    word_list = lines_to_words_list(line)\n",
    "                "
   ]
  },
  {
   "cell_type": "code",
   "execution_count": null,
   "metadata": {
    "collapsed": false
   },
   "outputs": [],
   "source": [
    "import numpy as np\n"
   ]
  },
  {
   "cell_type": "code",
   "execution_count": null,
   "metadata": {
    "collapsed": false,
    "scrolled": true
   },
   "outputs": [],
   "source": [
    "# Test the words-to-stresses function\n",
    "#words_to_stresses([\"Obscure\", \"Confer\", \"Confirm\"])\n",
    "#words_to_stresses([\"words\", \"intragalactic\"])"
   ]
  },
  {
   "cell_type": "code",
   "execution_count": null,
   "metadata": {
    "collapsed": false
   },
   "outputs": [],
   "source": [
    "# Test if the individual method to show the paragraphs for the strings\n"
   ]
  },
  {
   "cell_type": "code",
   "execution_count": null,
   "metadata": {
    "collapsed": false
   },
   "outputs": [],
   "source": [
    "# Function to check if the stress pattern is the same for two words\n",
    "def stress_pattern_is_same_diff_words(word1, word2):\n",
    "    phones_list1 = prn.phones_for_word(word1)\n",
    "    phones_list2 = prn.phones_for_word(word2)\n",
    "    stress1 = prn.stresses(phones_list1[0])\n",
    "    stress2 = prn.stresses(phones_list2[0])\n",
    "    return (stress1 == stress2)\n",
    "\n",
    "stress_pattern_is_same_diff_words(\"drill\", \"actual\")"
   ]
  },
  {
   "cell_type": "code",
   "execution_count": null,
   "metadata": {
    "collapsed": true
   },
   "outputs": [],
   "source": [
    "# An unused method!\n",
    "# Function to turn the string of phonemes into stresses \n",
    "def phonemes_to_stresses( pronun_list ):\n",
    "    stress_string = prn.stresses(pronun_list)\n",
    "    return stress_string\n",
    "\n",
    "phonemes_to_stresses( pronun_list)"
   ]
  },
  {
   "cell_type": "code",
   "execution_count": null,
   "metadata": {
    "collapsed": true
   },
   "outputs": [],
   "source": []
  },
  {
   "cell_type": "code",
   "execution_count": null,
   "metadata": {
    "collapsed": false
   },
   "outputs": [],
   "source": []
  },
  {
   "cell_type": "code",
   "execution_count": null,
   "metadata": {
    "collapsed": false
   },
   "outputs": [],
   "source": []
  },
  {
   "cell_type": "code",
   "execution_count": null,
   "metadata": {
    "collapsed": false
   },
   "outputs": [],
   "source": []
  },
  {
   "cell_type": "code",
   "execution_count": null,
   "metadata": {
    "collapsed": true
   },
   "outputs": [],
   "source": []
  },
  {
   "cell_type": "code",
   "execution_count": null,
   "metadata": {
    "collapsed": true
   },
   "outputs": [],
   "source": [
    "# Function to turn the list of strings into a numpy array of stress integers"
   ]
  },
  {
   "cell_type": "code",
   "execution_count": null,
   "metadata": {
    "collapsed": false
   },
   "outputs": [],
   "source": [
    "# Function to take in a sentence and return the string of the stresses in that sentence \n",
    "def sentence( line ): \n",
    "    text = \"april is the cruelest month breeding lilacs out of the dead\"\n",
    "    \n",
    "    \n",
    "print (text.split())\n",
    "print (text.split()[0])\n",
    "phones = [pronouncing.phones_for_word(p)[0] for p in text.split()]\n",
    "#print (phones[0])\n",
    "print (len(phones))\n",
    "stress_list = [prn.stresses(phones[i]) for i in range(len(text.split()))]\n",
    "print (stress_list)\n",
    "prn.stresses(phones[0] + phones[1] )"
   ]
  },
  {
   "cell_type": "code",
   "execution_count": null,
   "metadata": {
    "collapsed": false
   },
   "outputs": [],
   "source": [
    "list1 = ['P EH2 R AH0 P L EH1 G IH0 K']\n",
    "str1 = ''.join(text)\n",
    "str1"
   ]
  },
  {
   "cell_type": "code",
   "execution_count": null,
   "metadata": {
    "collapsed": false
   },
   "outputs": [],
   "source": [
    "phones_list[0]"
   ]
  },
  {
   "cell_type": "code",
   "execution_count": null,
   "metadata": {
    "collapsed": false
   },
   "outputs": [],
   "source": [
    "prn.stresses(phones_list[0])"
   ]
  },
  {
   "cell_type": "code",
   "execution_count": null,
   "metadata": {
    "collapsed": true
   },
   "outputs": [],
   "source": [
    "text = \"I can't feel my legs I'm a paraplegic\"\n",
    "p_list = [prn.phones_for_word(p) for p in text.split()]"
   ]
  },
  {
   "cell_type": "code",
   "execution_count": null,
   "metadata": {
    "collapsed": false
   },
   "outputs": [],
   "source": [
    "p_list"
   ]
  },
  {
   "cell_type": "code",
   "execution_count": null,
   "metadata": {
    "collapsed": false
   },
   "outputs": [],
   "source": [
    "list1 = ['P EH2 R AH0 P L EH1 G IH0 K']\n",
    "str1 = ''.join(list1)\n",
    "str1"
   ]
  },
  {
   "cell_type": "code",
   "execution_count": null,
   "metadata": {
    "collapsed": false
   },
   "outputs": [],
   "source": []
  },
  {
   "cell_type": "code",
   "execution_count": null,
   "metadata": {
    "collapsed": false
   },
   "outputs": [],
   "source": [
    "line_phones = prn.stresses(p for p in p_list)"
   ]
  },
  {
   "cell_type": "code",
   "execution_count": null,
   "metadata": {
    "collapsed": true
   },
   "outputs": [],
   "source": []
  },
  {
   "cell_type": "code",
   "execution_count": null,
   "metadata": {
    "collapsed": false
   },
   "outputs": [],
   "source": []
  },
  {
   "cell_type": "code",
   "execution_count": null,
   "metadata": {
    "collapsed": true
   },
   "outputs": [],
   "source": []
  },
  {
   "cell_type": "code",
   "execution_count": null,
   "metadata": {
    "collapsed": true
   },
   "outputs": [],
   "source": []
  }
 ],
 "metadata": {
  "anaconda-cloud": {},
  "kernelspec": {
   "display_name": "Python [conda root]",
   "language": "python",
   "name": "conda-root-py"
  },
  "language_info": {
   "codemirror_mode": {
    "name": "ipython",
    "version": 3
   },
   "file_extension": ".py",
   "mimetype": "text/x-python",
   "name": "python",
   "nbconvert_exporter": "python",
   "pygments_lexer": "ipython3",
   "version": "3.5.2"
  }
 },
 "nbformat": 4,
 "nbformat_minor": 1
}

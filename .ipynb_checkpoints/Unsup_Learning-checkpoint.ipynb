{
 "cells": [
  {
   "cell_type": "code",
   "execution_count": 9,
   "metadata": {
    "collapsed": false
   },
   "outputs": [],
   "source": [
    "from sklearn.cluster import KMeans\n",
    "import numpy as np"
   ]
  },
  {
   "cell_type": "code",
   "execution_count": 53,
   "metadata": {
    "collapsed": false
   },
   "outputs": [
    {
     "data": {
      "text/plain": [
       "'\\nstring3 = \"0 1 0 1 0 1\"\\nstring4 = \"1 1 1 1 1 1\"\\nstring5 = \"2 0 1 0 2 0\"\\nstring6 = \"0 0 0 0 0 0\"\\nstring7 = \"1 0 1 0 1 0\"\\nstring8 = \"2 0 1 0 2 0\"\\nstring9 = \"0 1 0 1 0 1\"\\nstring10 = \"1 2 1 1 2 1\"\\nstring12 = \"2 0 2 0 2 0\"\\nstring13 = \"0 0 1 0 0 1\"\\n'"
      ]
     },
     "execution_count": 53,
     "metadata": {},
     "output_type": "execute_result"
    }
   ],
   "source": [
    "array = np.array([[1,0,1,0,1,1,0], [2,0,1,0,2,0,1]])\n",
    "\"\"\"\n",
    "string3 = \"0 1 0 1 0 1\"\n",
    "string4 = \"1 1 1 1 1 1\"\n",
    "string5 = \"2 0 1 0 2 0\"\n",
    "string6 = \"0 0 0 0 0 0\"\n",
    "string7 = \"1 0 1 0 1 0\"\n",
    "string8 = \"2 0 1 0 2 0\"\n",
    "string9 = \"0 1 0 1 0 1\"\n",
    "string10 = \"1 2 1 1 2 1\"\n",
    "string12 = \"2 0 2 0 2 0\"\n",
    "string13 = \"0 0 1 0 0 1\"\n",
    "\"\"\""
   ]
  },
  {
   "cell_type": "code",
   "execution_count": 38,
   "metadata": {
    "collapsed": false
   },
   "outputs": [
    {
     "data": {
      "text/plain": [
       "'[0, 1, 2, 3, 4, 5, 6, 7, 8, 9, 10, 11, 12]'"
      ]
     },
     "execution_count": 38,
     "metadata": {},
     "output_type": "execute_result"
    }
   ],
   "source": [
    "str(list(x for x in range(0, 13)))"
   ]
  },
  {
   "cell_type": "code",
   "execution_count": 54,
   "metadata": {
    "collapsed": false
   },
   "outputs": [],
   "source": [
    "strs = [\"string\" + str(list(x for x in (range(0, 13))))]\n",
    "kmeans = KMeans(n_clusters=2, random_state=0).fit(array)"
   ]
  },
  {
   "cell_type": "code",
   "execution_count": null,
   "metadata": {
    "collapsed": true
   },
   "outputs": [],
   "source": []
  }
 ],
 "metadata": {
  "kernelspec": {
   "display_name": "Python [conda root]",
   "language": "python",
   "name": "conda-root-py"
  },
  "language_info": {
   "codemirror_mode": {
    "name": "ipython",
    "version": 3
   },
   "file_extension": ".py",
   "mimetype": "text/x-python",
   "name": "python",
   "nbconvert_exporter": "python",
   "pygments_lexer": "ipython3",
   "version": "3.5.2"
  }
 },
 "nbformat": 4,
 "nbformat_minor": 1
}

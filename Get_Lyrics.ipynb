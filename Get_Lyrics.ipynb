{
 "cells": [
  {
   "cell_type": "code",
   "execution_count": 2,
   "metadata": {
    "collapsed": true
   },
   "outputs": [],
   "source": [
    "# function to call\n",
    "#Get the song title in from the user\n",
    "# call lyrics api\n",
    "import requests\n",
    "from bs4 import BeautifulSoup"
   ]
  },
  {
   "cell_type": "code",
   "execution_count": 10,
   "metadata": {
    "collapsed": false
   },
   "outputs": [],
   "source": [
    "base_url = \"http://api.genius.com\"\n",
    "headers = {'Authorization': 'Bearer TOKEN'}\n",
    "\n",
    "# Pass the song title to the API\n",
    "search_url = base_url + \"/search\"\n",
    "song_title = \"In the Midst of It All\"\n",
    "aritst_name = \"Kanye West\"\n",
    "\n",
    "def lyrics_from_song_api_path(song_api_path):\n",
    "    song_url = base_url + song_api_path\n",
    "    response = requests.get(song_url, headers=headers)\n",
    "    json = response.json()\n",
    "    path = json[\"response\"][\"song\"][\"path\"]\n",
    "    #gotta go regular html scraping... come on Genius\n",
    "    page_url = \"http://genius.com\" + path\n",
    "    page = requests.get(page_url)\n",
    "    html = BeautifulSoup(page.text, \"html.parser\")\n",
    "    #remove script tags that they put in the middle of the lyrics\n",
    "    [h.extract() for h in html('script')]\n",
    "    #at least Genius is nice and has a tag called 'lyrics'!\n",
    "    lyrics = html.find(\"lyrics\").get_text()\n",
    "    return lyrics"
   ]
  },
  {
   "cell_type": "code",
   "execution_count": 17,
   "metadata": {
    "collapsed": false
   },
   "outputs": [
    {
     "ename": "KeyError",
     "evalue": "'response'",
     "output_type": "error",
     "traceback": [
      "\u001b[0;31m---------------------------------------------------------------------------\u001b[0m",
      "\u001b[0;31mKeyError\u001b[0m                                  Traceback (most recent call last)",
      "\u001b[0;32m<ipython-input-17-14697afc8755>\u001b[0m in \u001b[0;36m<module>\u001b[0;34m()\u001b[0m\n\u001b[1;32m      5\u001b[0m     \u001b[0mjson\u001b[0m \u001b[0;34m=\u001b[0m \u001b[0mresponse\u001b[0m\u001b[0;34m.\u001b[0m\u001b[0mjson\u001b[0m\u001b[0;34m(\u001b[0m\u001b[0;34m)\u001b[0m\u001b[0;34m\u001b[0m\u001b[0m\n\u001b[1;32m      6\u001b[0m     \u001b[0msong_info\u001b[0m \u001b[0;34m=\u001b[0m \u001b[0;32mNone\u001b[0m\u001b[0;34m\u001b[0m\u001b[0m\n\u001b[0;32m----> 7\u001b[0;31m     \u001b[0;32mfor\u001b[0m \u001b[0mhit\u001b[0m \u001b[0;32min\u001b[0m \u001b[0mjson\u001b[0m\u001b[0;34m[\u001b[0m\u001b[0;34m\"response\"\u001b[0m\u001b[0;34m]\u001b[0m\u001b[0;34m[\u001b[0m\u001b[0;34m\"hits\"\u001b[0m\u001b[0;34m]\u001b[0m\u001b[0;34m:\u001b[0m\u001b[0;34m\u001b[0m\u001b[0m\n\u001b[0m\u001b[1;32m      8\u001b[0m         \u001b[0;32mif\u001b[0m \u001b[0mhit\u001b[0m\u001b[0;34m[\u001b[0m\u001b[0;34m\"result\"\u001b[0m\u001b[0;34m]\u001b[0m\u001b[0;34m[\u001b[0m\u001b[0;34m\"primary_artist\"\u001b[0m\u001b[0;34m]\u001b[0m\u001b[0;34m[\u001b[0m\u001b[0;34m\"name\"\u001b[0m\u001b[0;34m]\u001b[0m \u001b[0;34m==\u001b[0m \u001b[0martist_name\u001b[0m\u001b[0;34m:\u001b[0m\u001b[0;34m\u001b[0m\u001b[0m\n\u001b[1;32m      9\u001b[0m             \u001b[0msong_info\u001b[0m \u001b[0;34m=\u001b[0m \u001b[0mhit\u001b[0m\u001b[0;34m\u001b[0m\u001b[0m\n",
      "\u001b[0;31mKeyError\u001b[0m: 'response'"
     ]
    }
   ],
   "source": [
    "if __name__ == \"__main__\":\n",
    "    search_url = base_url + \"/search\"\n",
    "    data = {'q': song_title}\n",
    "    response = requests.get(search_url, data=data, headers=headers)\n",
    "    json = response.json()\n",
    "    song_info = None\n",
    "    for hit in json[\"response\"][\"hits\"]:\n",
    "        if hit[\"result\"][\"primary_artist\"][\"name\"] == artist_name:\n",
    "            song_info = hit\n",
    "            break\n",
    "        if song_info:\n",
    "            song_api_path = song_info[\"result\"][\"api_path\"]\n",
    "            print (lyrics_from_song_api_path(song_api_path))"
   ]
  },
  {
   "cell_type": "code",
   "execution_count": null,
   "metadata": {
    "collapsed": true
   },
   "outputs": [],
   "source": [
    "\n",
    "\n",
    "data = {'q': song_title}\n",
    "response = requests.get(search_url, data=data, headers=headers)\n",
    "json = response.json()\n",
    "song_info = None\n",
    "for hit in json[\"response\"][\"hits\"]:\n",
    "  if hit[\"result\"][\"primary_artist\"][\"name\"] == artist_name:\n",
    "    song_info = hit\n",
    "    break\n",
    "if song_info:\n",
    "  pass\n",
    "  #now we have the song info and can do what we want"
   ]
  },
  {
   "cell_type": "code",
   "execution_count": null,
   "metadata": {
    "collapsed": true
   },
   "outputs": [],
   "source": []
  }
 ],
 "metadata": {
  "anaconda-cloud": {},
  "kernelspec": {
   "display_name": "Python [conda root]",
   "language": "python",
   "name": "conda-root-py"
  },
  "language_info": {
   "codemirror_mode": {
    "name": "ipython",
    "version": 3
   },
   "file_extension": ".py",
   "mimetype": "text/x-python",
   "name": "python",
   "nbconvert_exporter": "python",
   "pygments_lexer": "ipython3",
   "version": "3.5.2"
  }
 },
 "nbformat": 4,
 "nbformat_minor": 1
}

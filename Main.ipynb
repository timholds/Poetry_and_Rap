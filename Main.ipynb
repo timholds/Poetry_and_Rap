{
 "cells": [
  {
   "cell_type": "code",
   "execution_count": null,
   "metadata": {
    "collapsed": false
   },
   "outputs": [],
   "source": [
    "import pronouncing as prn\n",
    "import pandas as pd\n",
    "import numpy as np"
   ]
  },
  {
   "cell_type": "code",
   "execution_count": null,
   "metadata": {
    "collapsed": false
   },
   "outputs": [],
   "source": [
    "# Function that takes in a string and returns a single string of stresses\n",
    "#take in string and make list of strings\n",
    "def main():\n",
    "    line = get_line()\n",
    "    word_list = lines_to_words_list(line)\n",
    "    word_lower_list = word_list_to_lowercase(word_list)\n",
    "    stresses_string = word_list_to_stresses(word_lower_list)\n",
    "    stresses_array = stress_string_to_array(stresses_string)\n",
    "    return stresses_array\n",
    "\n",
    "stresses_string = main()\n",
    "stresses_string\n",
    "\n",
    "#Write main to a file\n",
    "#File should be array"
   ]
  },
  {
   "cell_type": "code",
   "execution_count": null,
   "metadata": {
    "collapsed": true
   },
   "outputs": [],
   "source": [
    "# data is a np array of the stress data\n",
    "# Funcion to save to a text file\n",
    "np.savetxt('Song1', data, fmt='%d')"
   ]
  },
  {
   "cell_type": "code",
   "execution_count": 40,
   "metadata": {
    "collapsed": false
   },
   "outputs": [
    {
     "name": "stdout",
     "output_type": "stream",
     "text": [
      "Enter a 4 or 8 count of song lyricsTelekinesis, hell of a thesis\n"
     ]
    }
   ],
   "source": [
    "# Function to get the string from the user (later to be automated for an entire song)\n",
    "def get_line():\n",
    "    text = input(\"Enter a 4 or 8 count of song lyrics\")\n",
    "    return text\n",
    "\n",
    "line = get_line()"
   ]
  },
  {
   "cell_type": "code",
   "execution_count": 16,
   "metadata": {
    "collapsed": false
   },
   "outputs": [
    {
     "data": {
      "text/plain": [
       "['How', 'do', 'you', 'know', 'bitch', 'how', 'do', 'you', 'know']"
      ]
     },
     "execution_count": 16,
     "metadata": {},
     "output_type": "execute_result"
    }
   ],
   "source": [
    "# Function to break the line (a string) into a list of strings of the words and phonemes\n",
    "def lines_to_words_list (line):\n",
    "    # Take in the line, break up into a list of words\n",
    "    word_list_with_commas = line.split()\n",
    "    # Strip each item of any potential commas or periods\n",
    "    word_list = [word.strip(\",.?!\") for word in word_list_with_commas]\n",
    "    return (word_list)\n",
    "\n",
    "word_list = lines_to_words_list(line)\n",
    "word_list\n"
   ]
  },
  {
   "cell_type": "code",
   "execution_count": 17,
   "metadata": {
    "collapsed": false
   },
   "outputs": [
    {
     "data": {
      "text/plain": [
       "['how', 'do', 'you', 'know', 'bitch', 'how', 'do', 'you', 'know']"
      ]
     },
     "execution_count": 17,
     "metadata": {},
     "output_type": "execute_result"
    }
   ],
   "source": [
    "# Function that takes in the list of words and makes them all lowercase for the pronouncing API\n",
    "def word_list_to_lowercase(word_list):\n",
    "    word_lower_list = []\n",
    "    for word in word_list:\n",
    "        word_lower_list.append(word.lower())\n",
    "    return word_lower_list\n",
    "\n",
    "word_lower_list = word_list_to_lowercase(word_list)\n",
    "word_lower_list"
   ]
  },
  {
   "cell_type": "code",
   "execution_count": 31,
   "metadata": {
    "collapsed": false
   },
   "outputs": [
    {
     "name": "stdout",
     "output_type": "stream",
     "text": [
      "['HH AW1']\n",
      "['D UW1']\n",
      "['Y UW1']\n",
      "['N OW1']\n",
      "['B IH1 CH']\n",
      "['HH AW1']\n",
      "['D UW1']\n",
      "['Y UW1']\n",
      "['N OW1']\n"
     ]
    },
    {
     "data": {
      "text/plain": [
       "'1 1 1 1 1 1 1 1 1 '"
      ]
     },
     "execution_count": 31,
     "metadata": {},
     "output_type": "execute_result"
    }
   ],
   "source": [
    "# Function that takes in a list of words (strings) and returns a single string of stresses\n",
    "def word_list_to_stresses(word_lower_list):\n",
    "    # Turn the list of words into a list of phonemes\n",
    "    pronunciation_list = []\n",
    "    stress_list = []\n",
    "    # Make a list of stress data by adding the stress data for one word at a time\n",
    "    stresses_and_space_data = \"\"\n",
    "    for word in word_lower_list:\n",
    "        # Get the stress string data by calling a method, passing the word, and storing it in the stresses variable\n",
    "        stresses = stress_string(word) \n",
    "        stresses_and_space_data += stresses + \" \"\n",
    "    stresses_string = ''.join(stresses_and_space_data)    \n",
    "    return stresses_string\n",
    "\n",
    "line_of_data_str = word_list_to_stresses(word_lower_list)\n",
    "line_of_data_str"
   ]
  },
  {
   "cell_type": "code",
   "execution_count": null,
   "metadata": {
    "collapsed": false
   },
   "outputs": [],
   "source": [
    "# Function to write np array and then convert write to database\n",
    "def stress_string_to_array(line_of_data_str):\n",
    "    line_of_data_array = np.fromstring(line_of_data_str)\n",
    "\n",
    "data = stress_string_to_array(line_of_data_str)\n",
    "data"
   ]
  },
  {
   "cell_type": "code",
   "execution_count": 116,
   "metadata": {
    "collapsed": false
   },
   "outputs": [
    {
     "data": {
      "text/plain": [
       "'S'"
      ]
     },
     "execution_count": 116,
     "metadata": {},
     "output_type": "execute_result"
    }
   ],
   "source": [
    "# Function for giving the stress (0, 1, or 2 for unstressed, stressed, and semi-stressed ) \n",
    "# for a given word, including two values (0/1) for each\n",
    "# space when that word has multiple pronunciations\n",
    "def stress_string(word):\n",
    "    word = word.lower()\n",
    "    if (consistent_stress_pattern(word)== True):\n",
    "        phones_list = prn.phones_for_word(word)\n",
    "        print (phones_list)\n",
    "        stresses_string = prn.stresses(phones_list[0])\n",
    "        return stresses_string\n",
    "    elif (consistent_stress_pattern(word) == False):   \n",
    "        word_lower = word.lower()\n",
    "        phones_list = prn.phones_for_word(word_lower)\n",
    "        print (phones_list)\n",
    "        # Create a list to store the pronunciation strings\n",
    "        pronunciation_list = []\n",
    "        # Words with two pronunciations create two items in our list\n",
    "        pronunciation_list.append(phones_list[0])\n",
    "        pronunciation_list.append(phones_list[1])\n",
    "        # Compute the stress data from these strings and store the results in the stresses variables\n",
    "        stresses1 = prn.stresses(pronunciation_list[0])\n",
    "        stresses2 = prn.stresses(pronunciation_list[1])\n",
    "        # Create a new string to represent our stress data for this word\n",
    "        best_guess_stress_string = ''\n",
    "        # For the different stress data points, find out where they overlap and diverge\n",
    "        for i in range(0, len(stresses1)):\n",
    "        # Keep the data points that are constant in the two pronunciations\n",
    "            if (stresses1[i] == stresses2[i]):\n",
    "                best_guess_stress_string+=(stresses1[i])\n",
    "        # For differing values, append an integer that is the sum of the two values to the best_guest_stress string\n",
    "            else:\n",
    "                best_guess_stress_string+=(stresses1[i] + \"/\" + stresses2[i] + ' ')\n",
    "        return best_guess_stress_string\n",
    "    elif (consistent_stress_pattern(word) == 3):\n",
    "        return \"S\"\n",
    "\n",
    "stress_string(\"swiggity\")"
   ]
  },
  {
   "cell_type": "code",
   "execution_count": 107,
   "metadata": {
    "collapsed": false
   },
   "outputs": [
    {
     "data": {
      "text/plain": [
       "'S'"
      ]
     },
     "execution_count": 107,
     "metadata": {},
     "output_type": "execute_result"
    }
   ],
   "source": [
    "# Function to check if there is more than one pronunciation for a word\n",
    "def more_than_one_pronunciation(word):\n",
    "    word_lower = word.lower()\n",
    "    phones_list = prn.phones_for_word(word_lower)\n",
    "    if (len(phones_list) > 1):\n",
    "        return True\n",
    "    elif (len(phones_list) == 1):\n",
    "        return False\n",
    "    else: #This word doesn't have a known pronunciation in the dicitionary\n",
    "        slang = \"S\"\n",
    "        return slang\n",
    "    \n",
    "more_than_one_pronunciation(\"Nps\")\n"
   ]
  },
  {
   "cell_type": "code",
   "execution_count": 112,
   "metadata": {
    "collapsed": false
   },
   "outputs": [
    {
     "data": {
      "text/plain": [
       "'S'"
      ]
     },
     "execution_count": 112,
     "metadata": {},
     "output_type": "execute_result"
    }
   ],
   "source": [
    "# Funciton to check if the stress pattern is always the same for a given word\n",
    "def consistent_stress_pattern(word):\n",
    "    # Check to see if there is more pronunciation for a word\n",
    "    if (more_than_one_pronunciation(word) == False):\n",
    "        return True\n",
    "    elif (more_than_one_pronunciation(word) == True): # There is more than one pronunciation and we want to know if they have the same stress pattern\n",
    "        word_lower = word.lower()\n",
    "        phones_list = prn.phones_for_word(word_lower)\n",
    "        stress1 = prn.stresses(phones_list[0])\n",
    "        stress2 = prn.stresses(phones_list[1])\n",
    "        return (stress1 == stress2)\n",
    "    elif (more_than_one_pronunciation(word) == 3):\n",
    "        return \"S\"\n",
    "\n",
    "consistent_stress_pattern(\"Swaggity\")"
   ]
  },
  {
   "cell_type": "code",
   "execution_count": 8,
   "metadata": {
    "collapsed": false
   },
   "outputs": [],
   "source": [
    "# Function to take a string in and output the pronunciation\n",
    "def pronunciation():\n",
    "    line = get_line()\n",
    "    word_list = lines_to_words_list(line)\n",
    "                "
   ]
  },
  {
   "cell_type": "code",
   "execution_count": null,
   "metadata": {
    "collapsed": false
   },
   "outputs": [],
   "source": [
    "import numpy as np\n"
   ]
  },
  {
   "cell_type": "code",
   "execution_count": 88,
   "metadata": {
    "collapsed": false,
    "scrolled": true
   },
   "outputs": [],
   "source": [
    "# Test the words-to-stresses function\n",
    "#words_to_stresses([\"Obscure\", \"Confer\", \"Confirm\"])\n",
    "#words_to_stresses([\"words\", \"intragalactic\"])"
   ]
  },
  {
   "cell_type": "code",
   "execution_count": null,
   "metadata": {
    "collapsed": false
   },
   "outputs": [],
   "source": [
    "# Test if the individual method to show the paragraphs for the strings\n"
   ]
  },
  {
   "cell_type": "code",
   "execution_count": null,
   "metadata": {
    "collapsed": false
   },
   "outputs": [],
   "source": [
    "# Function to check if the stress pattern is the same for two words\n",
    "def stress_pattern_is_same_diff_words(word1, word2):\n",
    "    phones_list1 = prn.phones_for_word(word1)\n",
    "    phones_list2 = prn.phones_for_word(word2)\n",
    "    stress1 = prn.stresses(phones_list1[0])\n",
    "    stress2 = prn.stresses(phones_list2[0])\n",
    "    return (stress1 == stress2)\n",
    "\n",
    "stress_pattern_is_same_diff_words(\"drill\", \"actual\")"
   ]
  },
  {
   "cell_type": "code",
   "execution_count": null,
   "metadata": {
    "collapsed": true
   },
   "outputs": [],
   "source": [
    "# An unused method!\n",
    "# Function to turn the string of phonemes into stresses \n",
    "def phonemes_to_stresses( pronun_list ):\n",
    "    stress_string = prn.stresses(pronun_list)\n",
    "    return stress_string\n",
    "\n",
    "phonemes_to_stresses( pronun_list)"
   ]
  },
  {
   "cell_type": "code",
   "execution_count": null,
   "metadata": {
    "collapsed": true
   },
   "outputs": [],
   "source": []
  },
  {
   "cell_type": "code",
   "execution_count": null,
   "metadata": {
    "collapsed": false
   },
   "outputs": [],
   "source": []
  },
  {
   "cell_type": "code",
   "execution_count": null,
   "metadata": {
    "collapsed": false
   },
   "outputs": [],
   "source": []
  },
  {
   "cell_type": "code",
   "execution_count": null,
   "metadata": {
    "collapsed": false
   },
   "outputs": [],
   "source": []
  },
  {
   "cell_type": "code",
   "execution_count": null,
   "metadata": {
    "collapsed": true
   },
   "outputs": [],
   "source": []
  },
  {
   "cell_type": "code",
   "execution_count": 126,
   "metadata": {
    "collapsed": true
   },
   "outputs": [],
   "source": [
    "# Function to turn the list of strings into a numpy array of stress integers"
   ]
  },
  {
   "cell_type": "code",
   "execution_count": 94,
   "metadata": {
    "collapsed": false
   },
   "outputs": [
    {
     "name": "stdout",
     "output_type": "stream",
     "text": [
      "['Ice', 'ice', 'baby']\n",
      "Ice\n"
     ]
    },
    {
     "ename": "IndexError",
     "evalue": "list index out of range",
     "output_type": "error",
     "traceback": [
      "\u001b[0;31m---------------------------------------------------------------------------\u001b[0m",
      "\u001b[0;31mIndexError\u001b[0m                                Traceback (most recent call last)",
      "\u001b[0;32m<ipython-input-94-b83487170808>\u001b[0m in \u001b[0;36m<module>\u001b[0;34m()\u001b[0m\n\u001b[1;32m      4\u001b[0m \u001b[0mprint\u001b[0m \u001b[0;34m(\u001b[0m\u001b[0mtext\u001b[0m\u001b[0;34m.\u001b[0m\u001b[0msplit\u001b[0m\u001b[0;34m(\u001b[0m\u001b[0;34m)\u001b[0m\u001b[0;34m)\u001b[0m\u001b[0;34m\u001b[0m\u001b[0m\n\u001b[1;32m      5\u001b[0m \u001b[0mprint\u001b[0m \u001b[0;34m(\u001b[0m\u001b[0mtext\u001b[0m\u001b[0;34m.\u001b[0m\u001b[0msplit\u001b[0m\u001b[0;34m(\u001b[0m\u001b[0;34m)\u001b[0m\u001b[0;34m[\u001b[0m\u001b[0;36m0\u001b[0m\u001b[0;34m]\u001b[0m\u001b[0;34m)\u001b[0m\u001b[0;34m\u001b[0m\u001b[0m\n\u001b[0;32m----> 6\u001b[0;31m \u001b[0mphones\u001b[0m \u001b[0;34m=\u001b[0m \u001b[0;34m[\u001b[0m\u001b[0mpronouncing\u001b[0m\u001b[0;34m.\u001b[0m\u001b[0mphones_for_word\u001b[0m\u001b[0;34m(\u001b[0m\u001b[0mp\u001b[0m\u001b[0;34m)\u001b[0m\u001b[0;34m[\u001b[0m\u001b[0;36m0\u001b[0m\u001b[0;34m]\u001b[0m \u001b[0;32mfor\u001b[0m \u001b[0mp\u001b[0m \u001b[0;32min\u001b[0m \u001b[0mtext\u001b[0m\u001b[0;34m.\u001b[0m\u001b[0msplit\u001b[0m\u001b[0;34m(\u001b[0m\u001b[0;34m)\u001b[0m\u001b[0;34m]\u001b[0m\u001b[0;34m\u001b[0m\u001b[0m\n\u001b[0m\u001b[1;32m      7\u001b[0m \u001b[0;31m#print (phones[0])\u001b[0m\u001b[0;34m\u001b[0m\u001b[0;34m\u001b[0m\u001b[0m\n\u001b[1;32m      8\u001b[0m \u001b[0mprint\u001b[0m \u001b[0;34m(\u001b[0m\u001b[0mlen\u001b[0m\u001b[0;34m(\u001b[0m\u001b[0mphones\u001b[0m\u001b[0;34m)\u001b[0m\u001b[0;34m)\u001b[0m\u001b[0;34m\u001b[0m\u001b[0m\n",
      "\u001b[0;32m<ipython-input-94-b83487170808>\u001b[0m in \u001b[0;36m<listcomp>\u001b[0;34m(.0)\u001b[0m\n\u001b[1;32m      4\u001b[0m \u001b[0mprint\u001b[0m \u001b[0;34m(\u001b[0m\u001b[0mtext\u001b[0m\u001b[0;34m.\u001b[0m\u001b[0msplit\u001b[0m\u001b[0;34m(\u001b[0m\u001b[0;34m)\u001b[0m\u001b[0;34m)\u001b[0m\u001b[0;34m\u001b[0m\u001b[0m\n\u001b[1;32m      5\u001b[0m \u001b[0mprint\u001b[0m \u001b[0;34m(\u001b[0m\u001b[0mtext\u001b[0m\u001b[0;34m.\u001b[0m\u001b[0msplit\u001b[0m\u001b[0;34m(\u001b[0m\u001b[0;34m)\u001b[0m\u001b[0;34m[\u001b[0m\u001b[0;36m0\u001b[0m\u001b[0;34m]\u001b[0m\u001b[0;34m)\u001b[0m\u001b[0;34m\u001b[0m\u001b[0m\n\u001b[0;32m----> 6\u001b[0;31m \u001b[0mphones\u001b[0m \u001b[0;34m=\u001b[0m \u001b[0;34m[\u001b[0m\u001b[0mpronouncing\u001b[0m\u001b[0;34m.\u001b[0m\u001b[0mphones_for_word\u001b[0m\u001b[0;34m(\u001b[0m\u001b[0mp\u001b[0m\u001b[0;34m)\u001b[0m\u001b[0;34m[\u001b[0m\u001b[0;36m0\u001b[0m\u001b[0;34m]\u001b[0m \u001b[0;32mfor\u001b[0m \u001b[0mp\u001b[0m \u001b[0;32min\u001b[0m \u001b[0mtext\u001b[0m\u001b[0;34m.\u001b[0m\u001b[0msplit\u001b[0m\u001b[0;34m(\u001b[0m\u001b[0;34m)\u001b[0m\u001b[0;34m]\u001b[0m\u001b[0;34m\u001b[0m\u001b[0m\n\u001b[0m\u001b[1;32m      7\u001b[0m \u001b[0;31m#print (phones[0])\u001b[0m\u001b[0;34m\u001b[0m\u001b[0;34m\u001b[0m\u001b[0m\n\u001b[1;32m      8\u001b[0m \u001b[0mprint\u001b[0m \u001b[0;34m(\u001b[0m\u001b[0mlen\u001b[0m\u001b[0;34m(\u001b[0m\u001b[0mphones\u001b[0m\u001b[0;34m)\u001b[0m\u001b[0;34m)\u001b[0m\u001b[0;34m\u001b[0m\u001b[0m\n",
      "\u001b[0;31mIndexError\u001b[0m: list index out of range"
     ]
    }
   ],
   "source": [
    "# Function to take in a sentence and return the string of the stresses in that sentence \n",
    "def sentence( line ): \n",
    "    text = \"april is the cruelest month breeding lilacs out of the dead\"\n",
    "    \n",
    "    \n",
    "print (text.split())\n",
    "print (text.split()[0])\n",
    "phones = [pronouncing.phones_for_word(p)[0] for p in text.split()]\n",
    "#print (phones[0])\n",
    "print (len(phones))\n",
    "stress_list = [prn.stresses(phones[i]) for i in range(len(text.split()))]\n",
    "print (stress_list)\n",
    "prn.stresses(phones[0] + phones[1] )"
   ]
  },
  {
   "cell_type": "code",
   "execution_count": 82,
   "metadata": {
    "collapsed": false
   },
   "outputs": [
    {
     "data": {
      "text/plain": [
       "'april is the cruelest month breeding lilacs out of the dead'"
      ]
     },
     "execution_count": 82,
     "metadata": {},
     "output_type": "execute_result"
    }
   ],
   "source": [
    "list1 = ['P EH2 R AH0 P L EH1 G IH0 K']\n",
    "str1 = ''.join(text)\n",
    "str1"
   ]
  },
  {
   "cell_type": "code",
   "execution_count": 18,
   "metadata": {
    "collapsed": false
   },
   "outputs": [
    {
     "data": {
      "text/plain": [
       "'S N AE1 P IH0 EH2 S T'"
      ]
     },
     "execution_count": 18,
     "metadata": {},
     "output_type": "execute_result"
    }
   ],
   "source": [
    "phones_list[0]"
   ]
  },
  {
   "cell_type": "code",
   "execution_count": 42,
   "metadata": {
    "collapsed": false
   },
   "outputs": [
    {
     "data": {
      "text/plain": [
       "'102'"
      ]
     },
     "execution_count": 42,
     "metadata": {},
     "output_type": "execute_result"
    }
   ],
   "source": [
    "prn.stresses(phones_list[0])"
   ]
  },
  {
   "cell_type": "code",
   "execution_count": 5,
   "metadata": {
    "collapsed": true
   },
   "outputs": [],
   "source": [
    "text = \"I can't feel my legs I'm a paraplegic\"\n",
    "p_list = [prn.phones_for_word(p) for p in text.split()]"
   ]
  },
  {
   "cell_type": "code",
   "execution_count": 43,
   "metadata": {
    "collapsed": false
   },
   "outputs": [
    {
     "data": {
      "text/plain": [
       "[[],\n",
       " ['K AE1 N T'],\n",
       " ['F IY1 L'],\n",
       " ['M AY1'],\n",
       " ['L EH1 G Z'],\n",
       " [],\n",
       " ['AH0', 'EY1', 'EY1 F AO1 R T UW1 W AH1 N T UW1 EY1 T'],\n",
       " ['P EH2 R AH0 P L EH1 G IH0 K', 'P EH2 R AH0 P L IY1 JH IH0 K']]"
      ]
     },
     "execution_count": 43,
     "metadata": {},
     "output_type": "execute_result"
    }
   ],
   "source": [
    "p_list"
   ]
  },
  {
   "cell_type": "code",
   "execution_count": 40,
   "metadata": {
    "collapsed": false
   },
   "outputs": [
    {
     "data": {
      "text/plain": [
       "'P EH2 R AH0 P L EH1 G IH0 K'"
      ]
     },
     "execution_count": 40,
     "metadata": {},
     "output_type": "execute_result"
    }
   ],
   "source": [
    "list1 = ['P EH2 R AH0 P L EH1 G IH0 K']\n",
    "str1 = ''.join(list1)\n",
    "str1"
   ]
  },
  {
   "cell_type": "code",
   "execution_count": 41,
   "metadata": {
    "collapsed": false
   },
   "outputs": [
    {
     "data": {
      "text/plain": [
       "'2010'"
      ]
     },
     "execution_count": 41,
     "metadata": {},
     "output_type": "execute_result"
    }
   ],
   "source": [
    "prn.stresses(str1)\n",
    "# Function that takes in a list of words (strings) and returns a single string of stresses\n",
    "def words_to_stresses(word_lower_list):\n",
    "    # Turn the list of words into a list of phonemes\n",
    "    pronunciation_list = []\n",
    "    stress_list = []\n",
    "    print(3)\n",
    "    # Make a list of stress data by adding the stress data for one word at a time\n",
    "    for word in word_lower_list:\n",
    "        # If there is only one pronunciation, add it to the list\n",
    "        if (more_than_one_pronunciation(word) == False):\n",
    "            word = \"\\\"\" + word + \"\\\"\"\n",
    "            phones_list = prn.phones_for_word(word)\n",
    "            print(phones_list + \"Ayeee\")\n",
    "            print (prn.phones_for_word(word))\n",
    "            pronunciation_list.append(phones_list[0])\n",
    "            print(word)\n",
    "            stresses = prn.stresses(pronunciation_list[0])\n",
    "            stress_list.append(stresses)\n",
    "        elif (more_than_one_pronunciation(word)):\n",
    "            #Check if stresses are the same for the different pronunciations,\n",
    "            print(\"Shit\")\n",
    "            word = \"\\\"\" + word + \"\\\"\"\n",
    "            print(word)\n",
    "            phones_list = prn.phones_for_word(word)\n",
    "            print(9)\n",
    "            print (phones_list)\n",
    "            if (consistent_stress_pattern(word)):\n",
    "                print(\"Crap\")\n",
    "                print (phones_list)\n",
    "                # Add the first pronunciation to the list\n",
    "                pronunciation_list.append(phones_list[0])\n",
    "                stresses = prn.stresses(pronunciation_list[0])\n",
    "                stress_list.append(stresses)\n",
    "            elif (consistent_stress_pattern(word) == False):\n",
    "                # Returning the same number of 3's as character is phones_list[0]\n",
    "                pronunciation_list.append(phones_list[0])\n",
    "                pronunciation_list.append(phones_list[1])\n",
    "                print (pronunciation_list)\n",
    "                stresses1 = prn.stresses(pronunciation_list[0])\n",
    "                stresses2 = prn.stresses(pronunciation_list[1])\n",
    "                best_guess_stress = ''\n",
    "                # For the different pronunciations, find out where they overlap\n",
    "                for i in range(0, len(stresses1)):\n",
    "                    # Keep overlapping values\n",
    "                    if (stresses1[i] == stresses2[i]):\n",
    "                        best_guess_stress+=(stresses1[i])\n",
    "                    # For differing values, insert a 3 to indicate the different possibilities\n",
    "                    else:\n",
    "                        # Algorithms \n",
    "                        best_guess_stress+=(\"3\")\n",
    "                        i = i + 1\n",
    "                        # Should probably store the 2 states it could be in \n",
    "                        \n",
    "                stress_list+=(best_guess_stress)   \n",
    "    stresses_string = ''.join(stress_list)\n",
    "    return stresses_string\n",
    "\n",
    "words_to_stresses(word_list)\n",
    "                "
   ]
  },
  {
   "cell_type": "code",
   "execution_count": 46,
   "metadata": {
    "collapsed": false
   },
   "outputs": [
    {
     "ename": "TypeError",
     "evalue": "expected string or bytes-like object",
     "output_type": "error",
     "traceback": [
      "\u001b[0;31m---------------------------------------------------------------------------\u001b[0m",
      "\u001b[0;31mTypeError\u001b[0m                                 Traceback (most recent call last)",
      "\u001b[0;32m<ipython-input-46-beb5e44bbb2d>\u001b[0m in \u001b[0;36m<module>\u001b[0;34m()\u001b[0m\n\u001b[0;32m----> 1\u001b[0;31m \u001b[0mline_phones\u001b[0m \u001b[0;34m=\u001b[0m \u001b[0mprn\u001b[0m\u001b[0;34m.\u001b[0m\u001b[0mstresses\u001b[0m\u001b[0;34m(\u001b[0m\u001b[0mp\u001b[0m \u001b[0;32mfor\u001b[0m \u001b[0mp\u001b[0m \u001b[0;32min\u001b[0m \u001b[0mp_list\u001b[0m\u001b[0;34m)\u001b[0m\u001b[0;34m\u001b[0m\u001b[0m\n\u001b[0m",
      "\u001b[0;32m//anaconda/lib/python3.5/site-packages/pronouncing/__init__.py\u001b[0m in \u001b[0;36mstresses\u001b[0;34m(s)\u001b[0m\n\u001b[1;32m    112\u001b[0m     \u001b[0;34m:\u001b[0m\u001b[0mreturns\u001b[0m\u001b[0;34m:\u001b[0m \u001b[0mstring\u001b[0m \u001b[0mof\u001b[0m \u001b[0mjust\u001b[0m \u001b[0mthe\u001b[0m \u001b[0mstresses\u001b[0m\u001b[0;34m\u001b[0m\u001b[0m\n\u001b[1;32m    113\u001b[0m     \"\"\"\n\u001b[0;32m--> 114\u001b[0;31m     \u001b[0;32mreturn\u001b[0m \u001b[0mre\u001b[0m\u001b[0;34m.\u001b[0m\u001b[0msub\u001b[0m\u001b[0;34m(\u001b[0m\u001b[0;34mr\"[^012]\"\u001b[0m\u001b[0;34m,\u001b[0m \u001b[0;34m\"\"\u001b[0m\u001b[0;34m,\u001b[0m \u001b[0ms\u001b[0m\u001b[0;34m)\u001b[0m\u001b[0;34m\u001b[0m\u001b[0m\n\u001b[0m\u001b[1;32m    115\u001b[0m \u001b[0;34m\u001b[0m\u001b[0m\n\u001b[1;32m    116\u001b[0m \u001b[0;34m\u001b[0m\u001b[0m\n",
      "\u001b[0;32m//anaconda/lib/python3.5/re.py\u001b[0m in \u001b[0;36msub\u001b[0;34m(pattern, repl, string, count, flags)\u001b[0m\n\u001b[1;32m    180\u001b[0m     \u001b[0ma\u001b[0m \u001b[0mcallable\u001b[0m\u001b[0;34m,\u001b[0m \u001b[0mit\u001b[0m\u001b[0;31m'\u001b[0m\u001b[0ms\u001b[0m \u001b[0mpassed\u001b[0m \u001b[0mthe\u001b[0m \u001b[0mmatch\u001b[0m \u001b[0mobject\u001b[0m \u001b[0;32mand\u001b[0m \u001b[0mmust\u001b[0m \u001b[0;32mreturn\u001b[0m\u001b[0;34m\u001b[0m\u001b[0m\n\u001b[1;32m    181\u001b[0m     a replacement string to be used.\"\"\"\n\u001b[0;32m--> 182\u001b[0;31m     \u001b[0;32mreturn\u001b[0m \u001b[0m_compile\u001b[0m\u001b[0;34m(\u001b[0m\u001b[0mpattern\u001b[0m\u001b[0;34m,\u001b[0m \u001b[0mflags\u001b[0m\u001b[0;34m)\u001b[0m\u001b[0;34m.\u001b[0m\u001b[0msub\u001b[0m\u001b[0;34m(\u001b[0m\u001b[0mrepl\u001b[0m\u001b[0;34m,\u001b[0m \u001b[0mstring\u001b[0m\u001b[0;34m,\u001b[0m \u001b[0mcount\u001b[0m\u001b[0;34m)\u001b[0m\u001b[0;34m\u001b[0m\u001b[0m\n\u001b[0m\u001b[1;32m    183\u001b[0m \u001b[0;34m\u001b[0m\u001b[0m\n\u001b[1;32m    184\u001b[0m \u001b[0;32mdef\u001b[0m \u001b[0msubn\u001b[0m\u001b[0;34m(\u001b[0m\u001b[0mpattern\u001b[0m\u001b[0;34m,\u001b[0m \u001b[0mrepl\u001b[0m\u001b[0;34m,\u001b[0m \u001b[0mstring\u001b[0m\u001b[0;34m,\u001b[0m \u001b[0mcount\u001b[0m\u001b[0;34m=\u001b[0m\u001b[0;36m0\u001b[0m\u001b[0;34m,\u001b[0m \u001b[0mflags\u001b[0m\u001b[0;34m=\u001b[0m\u001b[0;36m0\u001b[0m\u001b[0;34m)\u001b[0m\u001b[0;34m:\u001b[0m\u001b[0;34m\u001b[0m\u001b[0m\n",
      "\u001b[0;31mTypeError\u001b[0m: expected string or bytes-like object"
     ]
    }
   ],
   "source": [
    "line_phones = prn.stresses(p for p in p_list)"
   ]
  },
  {
   "cell_type": "code",
   "execution_count": null,
   "metadata": {
    "collapsed": true
   },
   "outputs": [],
   "source": [
    "# Extra Stuff\n",
    "phones_list = prn.phones_for_word(\"snappiest\")\n",
    "prn.stresses(phones_list[0])\n",
    "\n",
    "#print (prn.phones_for_word(word) for word in word_list)\n",
    "    #phoneme_list = (prn.phones_for_word(word) for word in word_list)\n",
    "    #print (phoneme_list)\n",
    "    # Turn the list of phonemes into a single string of phonemes, keeping spaces between words\n",
    "    #phoneme_str = ''.join(pronunciation_list)\n",
    "    # Return the string with the phonemes and spaces for the whole sentence\n",
    "    #return phoneme_list\n",
    "    \n",
    "    # Function that takes in a list of words (strings) and returns a list of phonmes (strings)\n",
    "def words_to_phones_list( word_list ):\n",
    "    # Turn the list of words into a list of phonemes\n",
    "    pronunciation_list = []\n",
    "    word_lower = []\n",
    "    # Make each word lowercase because the API needs the word like this\n",
    "    #word_lower.append(word.lower() for word in word_list)\n",
    "    #print(word_lower)\n",
    "    # Make a list of the pronunciations for each word in the sentence (actually is a list of lists)\n",
    "    pronunciation_list.append(prn.phones_for_word(word) for word in word_lower)\n",
    "    # Turn the list of lists into a single list\n",
    "    pronunciation_list_flat = sum(pronunciation_list, [])    \n",
    "    return pronunciation_list_flat\n",
    "\n",
    "a  = (\"GO,ham baby\")\n",
    "b = a.split(',')\n",
    "print (b[i] for i in range(0, len(b))) \n",
    "\n",
    "    \n",
    "pronun_list = words_to_phones_list( word_list )\n",
    "\n",
    "# Function to check if the stress pattern is the same for two words\n",
    "def stress_pattern_is_same(word1, word2):\n",
    "    phones_list = []\n",
    "    phones_list[0] = prn.phones_for_word(word1)\n",
    "    print (phones_list[0])\n",
    "    stresses_word1 = prn.stresses(phones_list[0])\n",
    "    stress_list = prn.stresses(phones_list[0])\n",
    "    print (len(phones_list))\n",
    "    phones_list[0] = prn.phones_for_word(word2)\n",
    "    print (phones_list[0])\n",
    "    stresses_word1 = prn.stresses(phones_list[0])\n",
    "    stresses_word2 = prn.stresses(phones_list[1])\n",
    "    return (stresses_word1 == stresses_word2)\n",
    "\n",
    "stress_pattern_is_same(\"word\", \"turd\")\n",
    "\n",
    "\n",
    "# Turn the list of lists into a single list of strings\n",
    "    pronunciation_list_flat = sum(pronunciation_list, [])  \n",
    "    print (pronunciation_list_flat)\n",
    "    # Turn the list of strings into a single string\n",
    "    pronunciation_string = ''.join(pronunciation_list_flat)\n",
    "    \n",
    "#if (',' in prn.phones_for_word(word)):\n",
    "\n",
    "m = prn.phones_for_word(\"permit\")\n",
    "prn.stresses(m[0])\n",
    "if (len(m) > 1):\n",
    "    print(3)\n",
    "else:\n",
    "    print(4)\n",
    "\n",
    "\n",
    "# Function that takes in a list of words (strings) and returns a list of phonmes (strings)\n",
    "def words_to_phones_list( word_list ):\n",
    "    # Turn the list of words into a list of phonemes\n",
    "    pronunciation_list = []\n",
    "    word_lower = []\n",
    "    # Make each word lowercase because the API needs the word like this\n",
    "    for word in word_list:\n",
    "        word_lower.append(word.lower())\n",
    "    # Make a list of the pronunciations for each word in the sentence (actually is a list of lists)\n",
    "    for word in word_lower:\n",
    "        pronunciation_list.append(prn.phones_for_word(word))\n",
    "    # Turn the list of lists into a single list of strings\n",
    "    pronunciation_list_flat = sum(pronunciation_list, [])  \n",
    "    print (pronunciation_list_flat)\n",
    "    # Turn the list of strings into a single string\n",
    "    pronunciation_string = ''.join(pronunciation_list_flat)\n",
    "    return pronunciation_string\n",
    "\n",
    "    \n",
    "pronun_list = words_to_phones_list( word_list )\n",
    "pronun_list # The pronunciation of a line of a song\n",
    "\n",
    "\n",
    "\n",
    "# Function to tell if a word has more than one pronunciation, and if so, the stress pattern\n",
    "def stress_pattern( word ):\n",
    "    #If there are multiple ways to pronounce the word\n",
    "    phones_list = []\n",
    "    phones_list.append(prn.phones_for_word(word))\n",
    "    \n",
    "    if (',' in prn.stresses(word)):\n",
    "        stress_string_list = prn.stresses(word).split(',')\n",
    "        for stress_string in stress_string_list:\n",
    "            # Check if the stress patterns are the same for all of the stress_strings\n",
    "            if (stress_string_list[0] == stress_string):\n",
    "                # If the stress patterns are the same, add one copy to the list of stresses\n",
    "                return stress_string[0]\n",
    "            else: # The stress patterns are different, so mark this part as ambiguous denoted by\n",
    "                return (\"$\"*len(stress_string_list[0])) \n",
    "            # $ that take up the same amount of space as the number of charcters in the str\n",
    "        # if (the string before the comma, is the same as the string after the comma)\n",
    "        #if (prn.stresses(word).substring[:','] == prn.stresses(word).substring[',':])\n",
    "        return\n",
    "    else: # There is one way to pronounce the word\n",
    "        return prn.stresses(word)\n",
    "\n",
    "c = stress_pattern(\"permit\") \n",
    "print(c)\n",
    "\n",
    "d = prn.phones_for_word(\"permit\")\n",
    "e = prn.stresses(d[0])\n",
    "print(e)\n",
    "print(d)\n",
    "#stress_pattern(\"permit\")\n",
    "#prn.phones_for_word(\"permit\")\n",
    "#prn.phones_for_word(\"capital\")\n",
    "\n",
    "# Function that takes in a list of words (strings) and returns a list of phonmes (strings)\n",
    "def words_to_phones_list( word_list ):\n",
    "    # Turn the list of words into a list of phonemes\n",
    "    pronunciation_list = []\n",
    "    word_lower = []\n",
    "    # Make each word lowercase because the API needs the word like this\n",
    "    for word in word_list:\n",
    "        word_lower.append(word.lower())\n",
    "    # Make a list of the pronunciations for each word in the sentence (actually is a list of lists)\n",
    "    for word in word_lower:\n",
    "        if #there is only 1 result returned by phones_for_word(word)\n",
    "            # Add the phones result to the list of phones\n",
    "            pronunciation_list.append(prn.phones_for_word(word))\n",
    "        else if #there are 2 results for pronunciation but they have the same stresses\n",
    "            # Add the stress pattern (only one copy) and continue\n",
    "        else # there are two different pronunciations possible\n",
    "            # Add a mark to the data so we know where and how many parts are ambiguously stressed\n",
    "    # Turn the list of lists into a single list of strings\n",
    "    pronunciation_list_flat = sum(pronunciation_list, [])  \n",
    "    print (pronunciation_list_flat)\n",
    "    # Turn the list of strings into a single string\n",
    "    pronunciation_string = ''.join(pronunciation_list_flat)\n",
    "    return pronunciation_string\n",
    "\n",
    "    \n",
    "pronun_list = words_to_phones_list( word_list )\n",
    "pronun_list # The pronunciation of a line of a song\n",
    "\n",
    "phones_list = prn.phones_for_word(\"word\")\n",
    "pronunciation_list = "
   ]
  },
  {
   "cell_type": "code",
   "execution_count": 38,
   "metadata": {
    "collapsed": false
   },
   "outputs": [
    {
     "name": "stdout",
     "output_type": "stream",
     "text": [
      "2\n",
      "1\n",
      "1\n",
      "1\n",
      "1\n",
      "1\n",
      "3\n"
     ]
    },
    {
     "data": {
      "text/plain": [
       "'33333'"
      ]
     },
     "execution_count": 38,
     "metadata": {},
     "output_type": "execute_result"
    }
   ],
   "source": [
    "# Function that takes in a list of words (strings) and returns a single string of phonmes \n",
    "def words_to_phones_list( word_list ):\n",
    "    # Turn the list of words into a list of phonemes\n",
    "    pronunciation_list = []\n",
    "    word_lower = []\n",
    "    # Make each word lowercase because the API needs the word like this\n",
    "    for word in word_list:\n",
    "        word_lower.append(word.lower())\n",
    "    # Make a list of the pronunciations for each word in the sentence (actually is a list of lists)\n",
    "    for word in word_lower:\n",
    "        phones_list = prn.phones_for_word(word)\n",
    "        print(len(phones_list))\n",
    "        # Check if there are multiple pronunciations\n",
    "        if (len(phones_list) > 1):\n",
    "            # Check if stresses are the same for the different pronunciations,\n",
    "            if (consistent_stress_pattern(word)):\n",
    "                # Add the first pronunciation to the list\n",
    "                pronunciation_list.append(phones_list[0]) \n",
    "                #pronunciation_list.append(prn.phones_for_word(word))\n",
    "            elif (consistent_stress_pattern(word) == False):\n",
    "                # Indicate by returning the same number of 3's as character is phones_list[0]\n",
    "                a = \"3\" * len(phones_list[0])\n",
    "                return a\n",
    "        else: # There is only one pronunciation, which should be added to the list\n",
    "            pronunciation_list.append(phones_list[0])       \n",
    "    return pronunciation_list\n",
    "\n",
    "    \n",
    "pronun_list = words_to_phones_list( word_list )\n",
    "pronun_list # The pronunciation of a line of a song\n",
    "#words_to_phones_list(\"car\")\n",
    "\n",
    "# Function that takes in a list of words (strings) and returns a single string of phonmes \n",
    "def words_to_phones_list( word_list ):\n",
    "    # Turn the list of words into a list of phonemes\n",
    "    pronunciation_list = []\n",
    "    word_lower = []\n",
    "    # Make each word lowercase because the API needs the word like this\n",
    "    for word in word_list:\n",
    "        word_lower.append(word.lower())\n",
    "    # Make a list of the pronunciations for each word in the sentence (actually is a list of lists)\n",
    "    for word in word_lower:\n",
    "        phones_list = prn.phones_for_word(word)\n",
    "        # There are multiple pronunciations\n",
    "        if (len(phones_list) > 1):\n",
    "            # Check if stresses are the same for the different pronunciations,\n",
    "            if (consistent_stress_pattern(word)):\n",
    "                # Add the first pronunciation to the list\n",
    "                pronunciation_list.append(phones_list[0]) \n",
    "                #pronunciation_list.append(prn.phones_for_word(word))\n",
    "            elif (consistent_stress_pattern(word) == False):\n",
    "                # Indicate by returning the same number of 3's as character is phones_list[0]\n",
    "                a = \"3\" * len(phones_list[0])\n",
    "                return a\n",
    "        else: # There is only one pronunciation, which should be added to the list\n",
    "            pronunciation_list.append(phones_list[0])       \n",
    "    pronunciation_string = ''.join(pronunciation_list)\n",
    "    return pronunciation_string\n",
    "\n",
    "    \n",
    "pronun_list = words_to_phones_list( word_list )\n",
    "pronun_list # The pronunciation of a line of a song\n",
    "words_to_phones_list(\"permit\")\n",
    "\n",
    "# Funciton to check if the stress pattern is always the same for a given word\n",
    "def consistent_stress_pattern(word):\n",
    "    phones_list = prn.phones_for_word(word)\n",
    "    if (more_than_one_pronunciation(word)):\n",
    "        stress1 = prn.stresses(phones_list[0])\n",
    "        stress2 = prn.stresses(phones_list[1])\n",
    "        return (stress1 == stress2)\n",
    "    else: # there is only one pronunciation of the word\n",
    "        return True\n",
    "\n",
    "consistent_stress_pattern(\"baby\")"
   ]
  },
  {
   "cell_type": "code",
   "execution_count": null,
   "metadata": {
    "collapsed": true
   },
   "outputs": [],
   "source": [
    "# Function for giving the stress (0, 1, or 2 for unstressed, stressed, and semi-stressed ) \n",
    "# for a given word, including when that word has multiple pronunciations\n",
    "def stress_string(word):\n",
    "    if (more_than_one_pronunciation(word)):\n",
    "        word_lower = word.lower()\n",
    "        phones_list = prn.phones_for_word(word_lower)\n",
    "        # Create a list to store the pronunciation strings\n",
    "        pronunciation_list = []\n",
    "        # Words with two pronunciations create two items in our list\n",
    "        pronunciation_list.append(phones_list[0])\n",
    "        pronunciation_list.append(phones_list[1])\n",
    "        # Compute the stress data from these strings and store the results in the stresses variables\n",
    "        stresses1 = prn.stresses(pronunciation_list[0])\n",
    "        stresses2 = prn.stresses(pronunciation_list[1])\n",
    "        # Create a new string to represent our stress data for this word\n",
    "        best_guess_stress = ''\n",
    "        # Our goal is to preserve as much information about possible pronunciations as possible\n",
    "        # For the different pronunciations, find out where they overlap\n",
    "        # Iterate over the stress data for each pronunciation\n",
    "        for i in range(0, len(stresses1)):\n",
    "        # Keep the data points that are constant in the two pronunciations\n",
    "            if (stresses1[i] == stresses2[i]):\n",
    "                best_guess_stress+=(stresses1[i])\n",
    "        # For differing values, append an integer that is the sum of the two values to the best_guest_stress string\n",
    "            else:\n",
    "                best_guess_stress+=(stresses1[i] + stresses2[i] + ' ')\n",
    "        return best_guess_stress\n",
    "    else: # There is only one pronunciation\n",
    "        phones_list = []\n",
    "        phones_list = prn.phones_for_word(word)\n",
    "\n",
    "        stresses_string = prn.stresses(phones_list[0])\n",
    "        return stresses_string\n",
    "         \n",
    "\n",
    "stress_string(\"Excuse\")\n",
    "\n",
    "# Function that takes in a list of words (strings) and returns a single string of stresses\n",
    "def word_list_to_stresses(word_lower_list):\n",
    "    # Turn the list of words into a list of phonemes\n",
    "    pronunciation_list = []\n",
    "    stress_list = []\n",
    "    print(3)\n",
    "    # Make a list of stress data by adding the stress data for one word at a time\n",
    "    for word in word_lower_list:\n",
    "        # Get the stress string data and storing it in the stresses variable\n",
    "        stresses = stress_string(word) \n",
    "        #stress_string(word)\n",
    "        stresses__and_space_data += stresses + \" \"\n",
    "        stresses_string = ''.join(stress_list)\n",
    "    return stresses_string\n",
    "\n",
    "word_list_to_stresses(word_list)"
   ]
  }
 ],
 "metadata": {
  "anaconda-cloud": {},
  "kernelspec": {
   "display_name": "Python [conda root]",
   "language": "python",
   "name": "conda-root-py"
  },
  "language_info": {
   "codemirror_mode": {
    "name": "ipython",
    "version": 3
   },
   "file_extension": ".py",
   "mimetype": "text/x-python",
   "name": "python",
   "nbconvert_exporter": "python",
   "pygments_lexer": "ipython3",
   "version": "3.5.2"
  }
 },
 "nbformat": 4,
 "nbformat_minor": 1
}
